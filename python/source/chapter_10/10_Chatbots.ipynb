{
 "cells": [
  {
   "cell_type": "markdown",
   "id": "bd0f38bd-e765-4214-b473-85b0a27bf699",
   "metadata": {
    "tags": []
   },
   "source": [
    "# Imports"
   ]
  },
  {
   "cell_type": "code",
   "execution_count": 1,
   "id": "5153fe70-7397-4d09-b0a4-2b092436cefa",
   "metadata": {
    "tags": []
   },
   "outputs": [],
   "source": [
    "import inspect\n",
    "import pathlib"
   ]
  },
  {
   "cell_type": "code",
   "execution_count": 2,
   "id": "d9af50c7-6e1b-4ffa-a7d7-63862f935fd4",
   "metadata": {
    "tags": []
   },
   "outputs": [],
   "source": [
    "import nltk\n",
    "import spacy"
   ]
  },
  {
   "cell_type": "code",
   "execution_count": 3,
   "id": "ff54efdb-4208-44e8-afd4-165655914dc8",
   "metadata": {},
   "outputs": [],
   "source": [
    "from dialog import Dialog, SimpleConversation, Greeting\n",
    "from test_dialog import TestDialogClass, TestGreetingClass\n",
    "from parser import plot_displacy_tree, spacy_tree, nltk_spacy_tree, question_type\n",
    "from converter import Converter\n",
    "from reader import HTMLCorpusReader, HTMLPickledCorpusReader\n",
    "from preprocessor import Preprocessor\n",
    "from transformer import TextNormalizer\n",
    "from recommender import KNNRecommender, RecipeRecommender"
   ]
  },
  {
   "cell_type": "markdown",
   "id": "8bf3d35d-5c48-42af-9ab3-de62f533a570",
   "metadata": {},
   "source": [
    "# Constants"
   ]
  },
  {
   "cell_type": "code",
   "execution_count": 4,
   "id": "b89fe81d-6c74-443f-a461-cfcde7dc3591",
   "metadata": {
    "tags": []
   },
   "outputs": [],
   "source": [
    "PROJECT_DIR = pathlib.Path('~/project').expanduser()\n",
    "DATA_DIR = PROJECT_DIR / 'data'\n",
    "SPACY_DATA = DATA_DIR / 'spacy_data'"
   ]
  },
  {
   "cell_type": "code",
   "execution_count": 5,
   "id": "9506603a-010b-4d8d-8afc-2e501c49d7ad",
   "metadata": {
    "tags": []
   },
   "outputs": [],
   "source": [
    "CONVERSION_PATH = DATA_DIR / 'conversions.json'"
   ]
  },
  {
   "cell_type": "code",
   "execution_count": 6,
   "id": "4cd3164c-e609-4016-b65f-acfec2214f64",
   "metadata": {
    "tags": []
   },
   "outputs": [],
   "source": [
    "COOKING_CORPUS_ROOT = DATA_DIR / 'cooking_corpus'\n",
    "COOKING_CORPUS_MINI_ROOT = DATA_DIR / 'cooking_corpus_mini'"
   ]
  },
  {
   "cell_type": "code",
   "execution_count": 7,
   "id": "6b4cc6e1-b441-437b-bb86-d3b11910e1ed",
   "metadata": {
    "tags": []
   },
   "outputs": [],
   "source": [
    "COOKING_CORPUS_PICKLED_ROOT = DATA_DIR / 'cooking_corpus_pickled'\n",
    "COOKING_CORPUS_MINI_PICKLED_ROOT = DATA_DIR / 'cooking_corpus_mini_pickled'"
   ]
  },
  {
   "cell_type": "code",
   "execution_count": 8,
   "id": "6f15ded7-ab11-45f7-a37b-d0bdf8920100",
   "metadata": {},
   "outputs": [],
   "source": [
    "RECOMMENDER_PATH = DATA_DIR / 'recommender.pkl'"
   ]
  },
  {
   "cell_type": "code",
   "execution_count": 9,
   "id": "79b984d9-e783-401d-89dd-74890b318681",
   "metadata": {
    "tags": []
   },
   "outputs": [],
   "source": [
    "CORPUS_ROOT = COOKING_CORPUS_MINI_ROOT\n",
    "CORPUS_PICKLED_ROOT = COOKING_CORPUS_MINI_PICKLED_ROOT"
   ]
  },
  {
   "cell_type": "code",
   "execution_count": 10,
   "id": "0ec26fc1-18af-436b-bc5e-954b6a2a1dee",
   "metadata": {
    "tags": []
   },
   "outputs": [],
   "source": [
    "# CORPUS_ROOT = COOKING_CORPUS_ROOT\n",
    "# CORPUS_PICKLED_ROOT = COOKING_CORPUS_PICKLED_ROOT"
   ]
  },
  {
   "cell_type": "markdown",
   "id": "d5655e8f-2582-4497-b773-f69113b465ab",
   "metadata": {
    "tags": []
   },
   "source": [
    "# Classes"
   ]
  },
  {
   "cell_type": "markdown",
   "id": "6d44d79b-4e91-4f59-86f0-84835caeb0cb",
   "metadata": {},
   "source": [
    "## HTMLCorpusReader"
   ]
  },
  {
   "cell_type": "code",
   "execution_count": 11,
   "id": "2bd810f5-a324-4f6c-9ce4-1730925b8bb3",
   "metadata": {
    "tags": []
   },
   "outputs": [
    {
     "name": "stdout",
     "output_type": "stream",
     "text": [
      "HTML corpus contains 3 files in 1 categories.\n",
      "Structured as:\n",
      "    63 paragraphs (21.000 mean paragraphs per file)\n",
      "    180 sentences (2.857 mean sentences per paragraph).\n",
      "Word count of 3,000 with a vocabulary of 926 (3.240 lexical diversity).\n",
      "Corpus scan took 0.056 seconds.\n"
     ]
    }
   ],
   "source": [
    "corpus = HTMLCorpusReader(CORPUS_ROOT.as_posix())\n",
    "print(corpus.describes())"
   ]
  },
  {
   "cell_type": "markdown",
   "id": "ecee82f6-eefb-4904-90cc-c7d760cb7955",
   "metadata": {},
   "source": [
    "## Preprocessor"
   ]
  },
  {
   "cell_type": "code",
   "execution_count": 12,
   "id": "69065e6c-1897-450c-8044-aed9798dfa2a",
   "metadata": {
    "tags": []
   },
   "outputs": [
    {
     "name": "stdout",
     "output_type": "stream",
     "text": [
      "CPU times: user 107 ms, sys: 39.3 ms, total: 147 ms\n",
      "Wall time: 262 ms\n"
     ]
    }
   ],
   "source": [
    "%%time\n",
    "corpus = HTMLCorpusReader(CORPUS_ROOT.as_posix())\n",
    "preprocessor = Preprocessor(corpus, CORPUS_PICKLED_ROOT.as_posix())\n",
    "docs = preprocessor.transform()"
   ]
  },
  {
   "cell_type": "markdown",
   "id": "7c7d1cdb-ca13-418f-9e32-151d7c31ade7",
   "metadata": {},
   "source": [
    "## HTMLPickledCorpusReader"
   ]
  },
  {
   "cell_type": "code",
   "execution_count": 13,
   "id": "ea024a54-6406-46af-9f0d-b2d4e9cd822d",
   "metadata": {},
   "outputs": [
    {
     "name": "stdout",
     "output_type": "stream",
     "text": [
      "HTML corpus contains 3 files in 1 categories.\n",
      "Structured as:\n",
      "    63 paragraphs (21.000 mean paragraphs per file)\n",
      "    180 sentences (2.857 mean sentences per paragraph).\n",
      "Word count of 3,000 with a vocabulary of 926 (3.240 lexical diversity).\n",
      "Corpus scan took 0.003 seconds.\n"
     ]
    }
   ],
   "source": [
    "corpus = HTMLPickledCorpusReader(CORPUS_PICKLED_ROOT.as_posix())\n",
    "print(corpus.describes())"
   ]
  },
  {
   "cell_type": "markdown",
   "id": "15ed5518-31e5-4efa-b3eb-5310e4160b3b",
   "metadata": {},
   "source": [
    "## TextNormalizer"
   ]
  },
  {
   "cell_type": "code",
   "execution_count": 14,
   "id": "1c58da9a-dc47-4cd6-850d-14c06f655c93",
   "metadata": {},
   "outputs": [],
   "source": [
    "corpus = HTMLPickledCorpusReader(CORPUS_PICKLED_ROOT.as_posix())\n",
    "normalizer = TextNormalizer()"
   ]
  },
  {
   "cell_type": "code",
   "execution_count": 15,
   "id": "0eda662e-d5cc-4dd9-9a60-1e95ffc12b90",
   "metadata": {},
   "outputs": [
    {
     "data": {
      "text/plain": [
       "3"
      ]
     },
     "execution_count": 15,
     "metadata": {},
     "output_type": "execute_result"
    }
   ],
   "source": [
    "len(list(normalizer.fit_transform(corpus.docs())))"
   ]
  },
  {
   "cell_type": "markdown",
   "id": "4c465026-fc94-4c0c-8d4d-df94dd080201",
   "metadata": {},
   "source": [
    "# Fundamentals of Conversation"
   ]
  },
  {
   "cell_type": "markdown",
   "id": "78ae18e7-ce07-4e73-bc44-674f0e7f52d1",
   "metadata": {},
   "source": [
    "## Dialog: A Brief Exchange"
   ]
  },
  {
   "cell_type": "code",
   "execution_count": 16,
   "id": "9c81e258-08cf-40b5-8c3a-1242b1ec9b13",
   "metadata": {},
   "outputs": [
    {
     "name": "stdout",
     "output_type": "stream",
     "text": [
      "class Dialog(abc.ABC):\n",
      "    \"\"\"\n",
      "    A dialog listens for utterances, parses and interprets them, then updates\n",
      "    its internal state. It can then formulate a response on demand.\n",
      "    \"\"\"\n",
      "    \n",
      "    def listen(self, text, need_response=True, **kwargs):\n",
      "        \"\"\"\n",
      "        A text utterance is passed in and parsed. It is then passed to the\n",
      "        interpret method to determine how to respond. If a response is\n",
      "        requested, the respond method is used to generate a text response\n",
      "        based on the most recent input and the current Dialog state.\n",
      "        \"\"\"\n",
      "        # Parse the input\n",
      "        sents = self.parse(text)\n",
      "        \n",
      "        # Interpret the input\n",
      "        sents, confidence, kwargs = self.interpret(sents, **kwargs)\n",
      "        \n",
      "        # Determine the response\n",
      "        response = (self.respond(sents, confidence, **kwargs)\n",
      "                    if need_response else None)\n",
      "        \n",
      "        # Return initiative\n",
      "        return response, confidence\n",
      "    \n",
      "    @abc.abstractmethod\n",
      "    def parse(self, text):\n",
      "        \"\"\"\n",
      "        Every dialog may need its own parsing strategy, some dialogs may need\n",
      "        dependency vs. constituency parses, others may simply require regular\n",
      "        expressions or chunkers.\n",
      "        \"\"\"\n",
      "        return []\n",
      "    \n",
      "    @abc.abstractmethod\n",
      "    def interpret(self, sents, **kwargs):\n",
      "        \"\"\"\n",
      "        Interprets the utterance passed in as a list of parsed sentences,\n",
      "        updates the internal state of the dialog, computes a confidence of the\n",
      "        interpretation. May also return arguments specific to the response\n",
      "        mechanism.\n",
      "        \"\"\"\n",
      "        return sents, 0.0, kwargs\n",
      "    \n",
      "    @abc.abstractmethod\n",
      "    def respond(self, sents, confidence, **kwargs):\n",
      "        \"\"\"\n",
      "        Creates a response given the input utterances and the current state of\n",
      "        the dialog, along with any arguments passed in from the listen or the\n",
      "        interpret methods.\n",
      "        \"\"\"\n",
      "        return None\n",
      "\n"
     ]
    }
   ],
   "source": [
    "print(inspect.getsource(Dialog))"
   ]
  },
  {
   "cell_type": "markdown",
   "id": "4ad9c8cc-d517-4ce2-bee7-6bcd1e67a665",
   "metadata": {},
   "source": [
    "## Maintaining a Conversation"
   ]
  },
  {
   "cell_type": "code",
   "execution_count": 17,
   "id": "5e2c44d2-5a4e-4219-bd98-1c094dee9ebb",
   "metadata": {},
   "outputs": [
    {
     "name": "stdout",
     "output_type": "stream",
     "text": [
      "class SimpleConversation(Dialog, collections.abc.Sequence):\n",
      "    \"\"\"\n",
      "    This is the most simple version of a conversation.\n",
      "    \"\"\"\n",
      "    \n",
      "    def __init__(self, dialogs):\n",
      "        self._dialogs = dialogs\n",
      "    \n",
      "    def __getitem__(self, idx):\n",
      "        return self._dialogs[idx]\n",
      "\n",
      "    def __len__(self):\n",
      "        return len(self._dialogs)\n",
      "    \n",
      "    def listen(self, text, need_response=True, **kwargs):\n",
      "        \"\"\"\n",
      "        Simply return the best confidence response\n",
      "        \"\"\"        \n",
      "        responses = [dialog.listen(text, need_response, **kwargs)\n",
      "                     for dialog in self._dialogs]\n",
      "        \n",
      "        # Responses is a list of (response, confidence) pairs\n",
      "        return max(responses, key=operator.itemgetter(1))\n",
      "    \n",
      "    def parse(self, text):\n",
      "        \"\"\"\n",
      "        Returns parses for all internal dialogs for debugging\n",
      "        \"\"\"\n",
      "        return [dialog.parse(text)\n",
      "                for dialog in self._dialogs]\n",
      "    \n",
      "    def interpret(self, sents, **kwargs):\n",
      "        \"\"\"\n",
      "        Returns interpretations for all internal dialogs for debugging\n",
      "        \"\"\"\n",
      "        return [dialog.interpret(sents, **kwargs)\n",
      "                for dialog in self._dialogs]\n",
      "\n",
      "    def respond(self, sents, confidence, **kwargs):\n",
      "        \"\"\"\n",
      "        Returns responses for all internal dialogs for debugging\n",
      "        \"\"\"\n",
      "        return [dialog.respond(sents, confidence, **kwargs)\n",
      "                for dialog in self._dialogs]\n",
      "\n"
     ]
    }
   ],
   "source": [
    "print(inspect.getsource(SimpleConversation))"
   ]
  },
  {
   "cell_type": "markdown",
   "id": "fa6eae5f-dea9-4d07-ae59-5dc25023cc49",
   "metadata": {},
   "source": [
    "# Rules for Polite Conversation"
   ]
  },
  {
   "cell_type": "markdown",
   "id": "1db900a7-f90d-4d0c-b1dc-3e62a98adb68",
   "metadata": {},
   "source": [
    "## Greetings and Salutations"
   ]
  },
  {
   "cell_type": "code",
   "execution_count": 18,
   "id": "cb3bcb60-60ad-4e3c-bda1-fcb16ada484a",
   "metadata": {},
   "outputs": [
    {
     "name": "stdout",
     "output_type": "stream",
     "text": [
      "Hello, what is your name?\n",
      "Hello, Jake!\n",
      "It's just you and me right now, Jake.\n",
      "Talk to you later!\n"
     ]
    }
   ],
   "source": [
    "dialog = Greeting()\n",
    "print(dialog.listen(\"Hello!\", user=\"jakevp321\")[0])\n",
    "print(dialog.listen(\"my name is Jake\", user=\"jakevp321\")[0])\n",
    "print(dialog.listen(\"Roll call!\", user=\"jakevp321\")[0])\n",
    "print(dialog.listen(\"Have to go, goodbye!\", user=\"jakevp321\")[0])"
   ]
  },
  {
   "cell_type": "code",
   "execution_count": 19,
   "id": "fafe6a2f-d33c-4a77-9e91-161de740dc27",
   "metadata": {},
   "outputs": [
    {
     "name": "stdout",
     "output_type": "stream",
     "text": [
      "Hello, what is your name?\n",
      "Hello, Jill!\n",
      "It's just you and me right now, None.\n"
     ]
    }
   ],
   "source": [
    "dialog = Greeting()\n",
    "print(dialog.listen(\"hey\", user=\"jillmonger\")[0])\n",
    "print(dialog.listen(\"my name is Jill.\", user=\"jillmonger\")[0])\n",
    "print(dialog.listen(\"who's here?\")[0])"
   ]
  },
  {
   "cell_type": "markdown",
   "id": "a6e48f17-fde7-42b1-9afa-1de65b099525",
   "metadata": {},
   "source": [
    "## Handling Miscommunication"
   ]
  },
  {
   "cell_type": "code",
   "execution_count": 20,
   "id": "814143c2-54b8-40b9-86b7-ab6c78d7ec08",
   "metadata": {},
   "outputs": [
    {
     "name": "stdout",
     "output_type": "stream",
     "text": [
      "\u001b[1m============================= test session starts ==============================\u001b[0m\n",
      "platform linux -- Python 3.8.11, pytest-7.4.0, pluggy-1.3.0 -- /home/python/.local/share/virtualenvs/project-onCnT2CZ/bin/python\n",
      "cachedir: .pytest_cache\n",
      "rootdir: /home/python/project/source/chapter_10\n",
      "plugins: anyio-4.2.0\n",
      "collected 15 items / 12 deselected / 3 selected                                \u001b[0m\n",
      "\n",
      "test_dialog.py::TestDialogClass::test_dialog_abc[Gobbledeguk] \u001b[32mPASSED\u001b[0m\u001b[32m     [ 33%]\u001b[0m\n",
      "test_dialog.py::TestDialogClass::test_dialog_abc[Gibberish] \u001b[32mPASSED\u001b[0m\u001b[32m       [ 66%]\u001b[0m\n",
      "test_dialog.py::TestDialogClass::test_dialog_abc[Wingdings] \u001b[32mPASSED\u001b[0m\u001b[32m       [100%]\u001b[0m\n",
      "\n",
      "\u001b[32m======================= \u001b[32m\u001b[1m3 passed\u001b[0m, \u001b[33m12 deselected\u001b[0m\u001b[32m in 0.01s\u001b[0m\u001b[32m =======================\u001b[0m\n"
     ]
    }
   ],
   "source": [
    "!pytest -vv -k 'TestDialogClass' test_dialog.py"
   ]
  },
  {
   "cell_type": "code",
   "execution_count": 21,
   "id": "29cac18d-3274-4b7f-8116-25ad7b47a1f9",
   "metadata": {},
   "outputs": [
    {
     "name": "stdout",
     "output_type": "stream",
     "text": [
      "\u001b[1m============================= test session starts ==============================\u001b[0m\n",
      "platform linux -- Python 3.8.11, pytest-7.4.0, pluggy-1.3.0 -- /home/python/.local/share/virtualenvs/project-onCnT2CZ/bin/python\n",
      "cachedir: .pytest_cache\n",
      "rootdir: /home/python/project/source/chapter_10\n",
      "plugins: anyio-4.2.0\n",
      "collected 15 items / 3 deselected / 12 selected                                \u001b[0m\n",
      "\n",
      "test_dialog.py::TestGreetingClass::test_greeting_intro[w/ user-Hello!] \u001b[32mPASSED\u001b[0m\u001b[32m [  8%]\u001b[0m\n",
      "test_dialog.py::TestGreetingClass::test_greeting_intro[w/ user-hello] \u001b[32mPASSED\u001b[0m\u001b[32m [ 16%]\u001b[0m\n",
      "test_dialog.py::TestGreetingClass::test_greeting_intro[w/ user-hey] \u001b[32mPASSED\u001b[0m\u001b[32m [ 25%]\u001b[0m\n",
      "test_dialog.py::TestGreetingClass::test_greeting_intro[w/ user-hi] \u001b[32mPASSED\u001b[0m\u001b[32m [ 33%]\u001b[0m\n",
      "test_dialog.py::TestGreetingClass::test_greeting_intro[w/o user-Hello!] \u001b[32mPASSED\u001b[0m\u001b[32m [ 41%]\u001b[0m\n",
      "test_dialog.py::TestGreetingClass::test_greeting_intro[w/o user-hello] \u001b[32mPASSED\u001b[0m\u001b[32m [ 50%]\u001b[0m\n",
      "test_dialog.py::TestGreetingClass::test_greeting_intro[w/o user-hey] \u001b[32mPASSED\u001b[0m\u001b[32m [ 58%]\u001b[0m\n",
      "test_dialog.py::TestGreetingClass::test_greeting_intro[w/o user-hi] \u001b[32mPASSED\u001b[0m\u001b[32m [ 66%]\u001b[0m\n",
      "test_dialog.py::TestGreetingClass::test_initial_intro[w/ user-My name is Jake] \u001b[33mXPASS\u001b[0m\u001b[33m [ 75%]\u001b[0m\n",
      "test_dialog.py::TestGreetingClass::test_initial_intro[w/ user-Hello, I'm Jake.] \u001b[33mXFAIL\u001b[0m\u001b[33m [ 83%]\u001b[0m\n",
      "test_dialog.py::TestGreetingClass::test_initial_intro[w/o user-My name is Jake] \u001b[33mXPASS\u001b[0m\u001b[33m [ 91%]\u001b[0m\n",
      "test_dialog.py::TestGreetingClass::test_initial_intro[w/o user-Hello, I'm Jake.] \u001b[33mXFAIL\u001b[0m\u001b[33m [100%]\u001b[0m\n",
      "\n",
      "\u001b[33m============ \u001b[32m8 passed\u001b[0m, \u001b[33m\u001b[1m3 deselected\u001b[0m, \u001b[33m\u001b[1m2 xfailed\u001b[0m, \u001b[33m\u001b[1m2 xpassed\u001b[0m\u001b[33m in 0.03s\u001b[0m\u001b[33m =============\u001b[0m\n"
     ]
    }
   ],
   "source": [
    "!pytest -vv -k 'TestGreetingClass' test_dialog.py"
   ]
  },
  {
   "cell_type": "markdown",
   "id": "59278665-eb5d-499a-9f9c-9c4e5e15956a",
   "metadata": {},
   "source": [
    "# Entertaining Questions"
   ]
  },
  {
   "cell_type": "markdown",
   "id": "c8fdc554-6d8b-4f79-8d8f-ddeca1029954",
   "metadata": {},
   "source": [
    "## Dependency Parsing"
   ]
  },
  {
   "cell_type": "code",
   "execution_count": 22,
   "id": "8b7f5d8d-682e-4296-bf4a-643923ee3d8b",
   "metadata": {},
   "outputs": [],
   "source": [
    "model = spacy.load(SPACY_DATA / 'en_core_web_sm')"
   ]
  },
  {
   "cell_type": "code",
   "execution_count": 23,
   "id": "3ed9b2eb-cd51-4e7d-bbe6-0b900c49e2af",
   "metadata": {},
   "outputs": [
    {
     "data": {
      "text/html": [
       "<span class=\"tex2jax_ignore\"><svg xmlns=\"http://www.w3.org/2000/svg\" xmlns:xlink=\"http://www.w3.org/1999/xlink\" xml:lang=\"en\" id=\"335554fc37a0460f92969ea034f94e27-0\" class=\"displacy\" width=\"1275\" height=\"312.0\" direction=\"ltr\" style=\"max-width: none; height: 312.0px; color: #000000; background: #ffffff; font-family: Arial; direction: ltr\">\n",
       "<text class=\"displacy-token\" fill=\"currentColor\" text-anchor=\"middle\" y=\"222.0\">\n",
       "    <tspan class=\"displacy-word\" fill=\"currentColor\" x=\"50\">How</tspan>\n",
       "    <tspan class=\"displacy-tag\" dy=\"2em\" fill=\"currentColor\" x=\"50\">SCONJ</tspan>\n",
       "</text>\n",
       "\n",
       "<text class=\"displacy-token\" fill=\"currentColor\" text-anchor=\"middle\" y=\"222.0\">\n",
       "    <tspan class=\"displacy-word\" fill=\"currentColor\" x=\"225\">many</tspan>\n",
       "    <tspan class=\"displacy-tag\" dy=\"2em\" fill=\"currentColor\" x=\"225\">ADJ</tspan>\n",
       "</text>\n",
       "\n",
       "<text class=\"displacy-token\" fill=\"currentColor\" text-anchor=\"middle\" y=\"222.0\">\n",
       "    <tspan class=\"displacy-word\" fill=\"currentColor\" x=\"400\">teaspoons</tspan>\n",
       "    <tspan class=\"displacy-tag\" dy=\"2em\" fill=\"currentColor\" x=\"400\">NOUN</tspan>\n",
       "</text>\n",
       "\n",
       "<text class=\"displacy-token\" fill=\"currentColor\" text-anchor=\"middle\" y=\"222.0\">\n",
       "    <tspan class=\"displacy-word\" fill=\"currentColor\" x=\"575\">are</tspan>\n",
       "    <tspan class=\"displacy-tag\" dy=\"2em\" fill=\"currentColor\" x=\"575\">AUX</tspan>\n",
       "</text>\n",
       "\n",
       "<text class=\"displacy-token\" fill=\"currentColor\" text-anchor=\"middle\" y=\"222.0\">\n",
       "    <tspan class=\"displacy-word\" fill=\"currentColor\" x=\"750\">in</tspan>\n",
       "    <tspan class=\"displacy-tag\" dy=\"2em\" fill=\"currentColor\" x=\"750\">ADP</tspan>\n",
       "</text>\n",
       "\n",
       "<text class=\"displacy-token\" fill=\"currentColor\" text-anchor=\"middle\" y=\"222.0\">\n",
       "    <tspan class=\"displacy-word\" fill=\"currentColor\" x=\"925\">a</tspan>\n",
       "    <tspan class=\"displacy-tag\" dy=\"2em\" fill=\"currentColor\" x=\"925\">DET</tspan>\n",
       "</text>\n",
       "\n",
       "<text class=\"displacy-token\" fill=\"currentColor\" text-anchor=\"middle\" y=\"222.0\">\n",
       "    <tspan class=\"displacy-word\" fill=\"currentColor\" x=\"1100\">tablespoon?</tspan>\n",
       "    <tspan class=\"displacy-tag\" dy=\"2em\" fill=\"currentColor\" x=\"1100\">NOUN</tspan>\n",
       "</text>\n",
       "\n",
       "<g class=\"displacy-arrow\">\n",
       "    <path class=\"displacy-arc\" id=\"arrow-335554fc37a0460f92969ea034f94e27-0-0\" stroke-width=\"2px\" d=\"M70,177.0 C70,89.5 220.0,89.5 220.0,177.0\" fill=\"none\" stroke=\"currentColor\"/>\n",
       "    <text dy=\"1.25em\" style=\"font-size: 0.8em; letter-spacing: 1px\">\n",
       "        <textPath xlink:href=\"#arrow-335554fc37a0460f92969ea034f94e27-0-0\" class=\"displacy-label\" startOffset=\"50%\" side=\"left\" fill=\"currentColor\" text-anchor=\"middle\">advmod</textPath>\n",
       "    </text>\n",
       "    <path class=\"displacy-arrowhead\" d=\"M70,179.0 L62,167.0 78,167.0\" fill=\"currentColor\"/>\n",
       "</g>\n",
       "\n",
       "<g class=\"displacy-arrow\">\n",
       "    <path class=\"displacy-arc\" id=\"arrow-335554fc37a0460f92969ea034f94e27-0-1\" stroke-width=\"2px\" d=\"M245,177.0 C245,89.5 395.0,89.5 395.0,177.0\" fill=\"none\" stroke=\"currentColor\"/>\n",
       "    <text dy=\"1.25em\" style=\"font-size: 0.8em; letter-spacing: 1px\">\n",
       "        <textPath xlink:href=\"#arrow-335554fc37a0460f92969ea034f94e27-0-1\" class=\"displacy-label\" startOffset=\"50%\" side=\"left\" fill=\"currentColor\" text-anchor=\"middle\">amod</textPath>\n",
       "    </text>\n",
       "    <path class=\"displacy-arrowhead\" d=\"M245,179.0 L237,167.0 253,167.0\" fill=\"currentColor\"/>\n",
       "</g>\n",
       "\n",
       "<g class=\"displacy-arrow\">\n",
       "    <path class=\"displacy-arc\" id=\"arrow-335554fc37a0460f92969ea034f94e27-0-2\" stroke-width=\"2px\" d=\"M420,177.0 C420,89.5 570.0,89.5 570.0,177.0\" fill=\"none\" stroke=\"currentColor\"/>\n",
       "    <text dy=\"1.25em\" style=\"font-size: 0.8em; letter-spacing: 1px\">\n",
       "        <textPath xlink:href=\"#arrow-335554fc37a0460f92969ea034f94e27-0-2\" class=\"displacy-label\" startOffset=\"50%\" side=\"left\" fill=\"currentColor\" text-anchor=\"middle\">nsubj</textPath>\n",
       "    </text>\n",
       "    <path class=\"displacy-arrowhead\" d=\"M420,179.0 L412,167.0 428,167.0\" fill=\"currentColor\"/>\n",
       "</g>\n",
       "\n",
       "<g class=\"displacy-arrow\">\n",
       "    <path class=\"displacy-arc\" id=\"arrow-335554fc37a0460f92969ea034f94e27-0-3\" stroke-width=\"2px\" d=\"M595,177.0 C595,89.5 745.0,89.5 745.0,177.0\" fill=\"none\" stroke=\"currentColor\"/>\n",
       "    <text dy=\"1.25em\" style=\"font-size: 0.8em; letter-spacing: 1px\">\n",
       "        <textPath xlink:href=\"#arrow-335554fc37a0460f92969ea034f94e27-0-3\" class=\"displacy-label\" startOffset=\"50%\" side=\"left\" fill=\"currentColor\" text-anchor=\"middle\">prep</textPath>\n",
       "    </text>\n",
       "    <path class=\"displacy-arrowhead\" d=\"M745.0,179.0 L753.0,167.0 737.0,167.0\" fill=\"currentColor\"/>\n",
       "</g>\n",
       "\n",
       "<g class=\"displacy-arrow\">\n",
       "    <path class=\"displacy-arc\" id=\"arrow-335554fc37a0460f92969ea034f94e27-0-4\" stroke-width=\"2px\" d=\"M945,177.0 C945,89.5 1095.0,89.5 1095.0,177.0\" fill=\"none\" stroke=\"currentColor\"/>\n",
       "    <text dy=\"1.25em\" style=\"font-size: 0.8em; letter-spacing: 1px\">\n",
       "        <textPath xlink:href=\"#arrow-335554fc37a0460f92969ea034f94e27-0-4\" class=\"displacy-label\" startOffset=\"50%\" side=\"left\" fill=\"currentColor\" text-anchor=\"middle\">det</textPath>\n",
       "    </text>\n",
       "    <path class=\"displacy-arrowhead\" d=\"M945,179.0 L937,167.0 953,167.0\" fill=\"currentColor\"/>\n",
       "</g>\n",
       "\n",
       "<g class=\"displacy-arrow\">\n",
       "    <path class=\"displacy-arc\" id=\"arrow-335554fc37a0460f92969ea034f94e27-0-5\" stroke-width=\"2px\" d=\"M770,177.0 C770,2.0 1100.0,2.0 1100.0,177.0\" fill=\"none\" stroke=\"currentColor\"/>\n",
       "    <text dy=\"1.25em\" style=\"font-size: 0.8em; letter-spacing: 1px\">\n",
       "        <textPath xlink:href=\"#arrow-335554fc37a0460f92969ea034f94e27-0-5\" class=\"displacy-label\" startOffset=\"50%\" side=\"left\" fill=\"currentColor\" text-anchor=\"middle\">pobj</textPath>\n",
       "    </text>\n",
       "    <path class=\"displacy-arrowhead\" d=\"M1100.0,179.0 L1108.0,167.0 1092.0,167.0\" fill=\"currentColor\"/>\n",
       "</g>\n",
       "</svg></span>"
      ],
      "text/plain": [
       "<IPython.core.display.HTML object>"
      ]
     },
     "metadata": {},
     "output_type": "display_data"
    }
   ],
   "source": [
    "plot_displacy_tree(model, 'How many teaspoons are in a tablespoon?')"
   ]
  },
  {
   "cell_type": "markdown",
   "id": "bb72001d-77ed-4795-8eec-b7023c927e48",
   "metadata": {},
   "source": [
    "## Constituency Parsing"
   ]
  },
  {
   "cell_type": "code",
   "execution_count": 24,
   "id": "cba7855f-4bc7-4d9c-8f23-0a126827fccd",
   "metadata": {},
   "outputs": [
    {
     "name": "stdout",
     "output_type": "stream",
     "text": [
      "{'ents': [],\n",
      " 'sents': [{'end': 39, 'start': 0}],\n",
      " 'text': 'How many teaspoons are in a tablespoon?',\n",
      " 'tokens': [{'dep': 'advmod',\n",
      "             'end': 3,\n",
      "             'head': 1,\n",
      "             'id': 0,\n",
      "             'lemma': 'how',\n",
      "             'morph': '',\n",
      "             'pos': 'SCONJ',\n",
      "             'start': 0,\n",
      "             'tag': 'WRB'},\n",
      "            {'dep': 'amod',\n",
      "             'end': 8,\n",
      "             'head': 2,\n",
      "             'id': 1,\n",
      "             'lemma': 'many',\n",
      "             'morph': 'Degree=Pos',\n",
      "             'pos': 'ADJ',\n",
      "             'start': 4,\n",
      "             'tag': 'JJ'},\n",
      "            {'dep': 'nsubj',\n",
      "             'end': 18,\n",
      "             'head': 3,\n",
      "             'id': 2,\n",
      "             'lemma': 'teaspoon',\n",
      "             'morph': 'Number=Plur',\n",
      "             'pos': 'NOUN',\n",
      "             'start': 9,\n",
      "             'tag': 'NNS'},\n",
      "            {'dep': 'ROOT',\n",
      "             'end': 22,\n",
      "             'head': 3,\n",
      "             'id': 3,\n",
      "             'lemma': 'be',\n",
      "             'morph': 'Mood=Ind|Tense=Pres|VerbForm=Fin',\n",
      "             'pos': 'AUX',\n",
      "             'start': 19,\n",
      "             'tag': 'VBP'},\n",
      "            {'dep': 'prep',\n",
      "             'end': 25,\n",
      "             'head': 3,\n",
      "             'id': 4,\n",
      "             'lemma': 'in',\n",
      "             'morph': '',\n",
      "             'pos': 'ADP',\n",
      "             'start': 23,\n",
      "             'tag': 'IN'},\n",
      "            {'dep': 'det',\n",
      "             'end': 27,\n",
      "             'head': 6,\n",
      "             'id': 5,\n",
      "             'lemma': 'a',\n",
      "             'morph': 'Definite=Ind|PronType=Art',\n",
      "             'pos': 'DET',\n",
      "             'start': 26,\n",
      "             'tag': 'DT'},\n",
      "            {'dep': 'pobj',\n",
      "             'end': 38,\n",
      "             'head': 4,\n",
      "             'id': 6,\n",
      "             'lemma': 'tablespoon',\n",
      "             'morph': 'Number=Sing',\n",
      "             'pos': 'NOUN',\n",
      "             'start': 28,\n",
      "             'tag': 'NN'},\n",
      "            {'dep': 'punct',\n",
      "             'end': 39,\n",
      "             'head': 3,\n",
      "             'id': 7,\n",
      "             'lemma': '?',\n",
      "             'morph': 'PunctType=Peri',\n",
      "             'pos': 'PUNCT',\n",
      "             'start': 38,\n",
      "             'tag': '.'}]}\n"
     ]
    }
   ],
   "source": [
    "spacy_tree(model, 'How many teaspoons are in a tablespoon?')"
   ]
  },
  {
   "cell_type": "code",
   "execution_count": 25,
   "id": "71bf60b3-bf85-4fd3-9af1-0e558357880f",
   "metadata": {},
   "outputs": [],
   "source": [
    "tree = nltk_spacy_tree(model, 'How many teaspoons are in a tablespoon?')\n",
    "tree.draw()"
   ]
  },
  {
   "cell_type": "markdown",
   "id": "9ed82b72-ce01-47f9-aaa8-f5b4ac6198d3",
   "metadata": {},
   "source": [
    "## Question Detection"
   ]
  },
  {
   "cell_type": "code",
   "execution_count": 26,
   "id": "a58e3604-1959-4ab2-b33a-57f5473d8533",
   "metadata": {},
   "outputs": [
    {
     "data": {
      "text/plain": [
       "('quantity', ['teaspoons', 'tablespoon'])"
      ]
     },
     "execution_count": 26,
     "metadata": {},
     "output_type": "execute_result"
    }
   ],
   "source": [
    "question_type(model, 'How many teaspoons are in a tablespoon?')"
   ]
  },
  {
   "cell_type": "markdown",
   "id": "f5ec764a-4e22-4b86-9e04-2d6d0fc7c1af",
   "metadata": {},
   "source": [
    "## From Tablespoons to Grams"
   ]
  },
  {
   "cell_type": "code",
   "execution_count": 27,
   "id": "9c58bf6b-dfba-4107-b30c-d09d97425674",
   "metadata": {},
   "outputs": [],
   "source": [
    "dialog = Converter(\n",
    "    conversion_path=CONVERSION_PATH,\n",
    "    stemmer=nltk.SnowballStemmer('english'),\n",
    "    parser=spacy.load(SPACY_DATA / 'en_core_web_sm')\n",
    ")"
   ]
  },
  {
   "cell_type": "code",
   "execution_count": 28,
   "id": "11d21c3b-667d-4062-a65a-94875b44d1aa",
   "metadata": {},
   "outputs": [
    {
     "name": "stdout",
     "output_type": "stream",
     "text": [
      "('There are 16 cups in one gallon.', 1.0)\n",
      "('There are 1/8 gallons in two cups.', 1.0)\n",
      "('There are 16 tablespoons in one cup.', 1.0)\n",
      "('There are 160 tablespoons in 10 cups.', 1.0)\n",
      "('There are 1/3 tablespoons in one teaspoon.', 1.0)\n"
     ]
    }
   ],
   "source": [
    "print(dialog.listen(\"How many cups are in a gallon?\"))\n",
    "print(dialog.listen(\"How many gallons are in 2 cups?\"))\n",
    "print(dialog.listen(\"How many tablespoons are in a cup?\"))\n",
    "print(dialog.listen(\"How many tablespoons are in 10 cups?\"))\n",
    "print(dialog.listen(\"How many tablespoons are in a teaspoon?\"))"
   ]
  },
  {
   "cell_type": "markdown",
   "id": "fff1c052-9a4a-478e-863b-dc5861a5c300",
   "metadata": {},
   "source": [
    "# Learning to Help"
   ]
  },
  {
   "cell_type": "markdown",
   "id": "04126e12-b9c9-4a85-abe7-218c98544d76",
   "metadata": {},
   "source": [
    "## Being Neighborly"
   ]
  },
  {
   "cell_type": "code",
   "execution_count": 29,
   "id": "f3e3362a-7c4f-4e01-b03a-bcf4083981ee",
   "metadata": {},
   "outputs": [],
   "source": [
    "corpus = HTMLPickledCorpusReader(CORPUS_PICKLED_ROOT.as_posix())"
   ]
  },
  {
   "cell_type": "code",
   "execution_count": 30,
   "id": "e7c43c51-81ac-45b7-98c6-a76d9ea0b99c",
   "metadata": {},
   "outputs": [
    {
     "name": "stdout",
     "output_type": "stream",
     "text": [
      "CPU times: user 25.4 ms, sys: 3.88 ms, total: 29.3 ms\n",
      "Wall time: 18.1 ms\n"
     ]
    },
    {
     "data": {
      "text/html": [
       "<style>#sk-container-id-1 {color: black;background-color: white;}#sk-container-id-1 pre{padding: 0;}#sk-container-id-1 div.sk-toggleable {background-color: white;}#sk-container-id-1 label.sk-toggleable__label {cursor: pointer;display: block;width: 100%;margin-bottom: 0;padding: 0.3em;box-sizing: border-box;text-align: center;}#sk-container-id-1 label.sk-toggleable__label-arrow:before {content: \"▸\";float: left;margin-right: 0.25em;color: #696969;}#sk-container-id-1 label.sk-toggleable__label-arrow:hover:before {color: black;}#sk-container-id-1 div.sk-estimator:hover label.sk-toggleable__label-arrow:before {color: black;}#sk-container-id-1 div.sk-toggleable__content {max-height: 0;max-width: 0;overflow: hidden;text-align: left;background-color: #f0f8ff;}#sk-container-id-1 div.sk-toggleable__content pre {margin: 0.2em;color: black;border-radius: 0.25em;background-color: #f0f8ff;}#sk-container-id-1 input.sk-toggleable__control:checked~div.sk-toggleable__content {max-height: 200px;max-width: 100%;overflow: auto;}#sk-container-id-1 input.sk-toggleable__control:checked~label.sk-toggleable__label-arrow:before {content: \"▾\";}#sk-container-id-1 div.sk-estimator input.sk-toggleable__control:checked~label.sk-toggleable__label {background-color: #d4ebff;}#sk-container-id-1 div.sk-label input.sk-toggleable__control:checked~label.sk-toggleable__label {background-color: #d4ebff;}#sk-container-id-1 input.sk-hidden--visually {border: 0;clip: rect(1px 1px 1px 1px);clip: rect(1px, 1px, 1px, 1px);height: 1px;margin: -1px;overflow: hidden;padding: 0;position: absolute;width: 1px;}#sk-container-id-1 div.sk-estimator {font-family: monospace;background-color: #f0f8ff;border: 1px dotted black;border-radius: 0.25em;box-sizing: border-box;margin-bottom: 0.5em;}#sk-container-id-1 div.sk-estimator:hover {background-color: #d4ebff;}#sk-container-id-1 div.sk-parallel-item::after {content: \"\";width: 100%;border-bottom: 1px solid gray;flex-grow: 1;}#sk-container-id-1 div.sk-label:hover label.sk-toggleable__label {background-color: #d4ebff;}#sk-container-id-1 div.sk-serial::before {content: \"\";position: absolute;border-left: 1px solid gray;box-sizing: border-box;top: 0;bottom: 0;left: 50%;z-index: 0;}#sk-container-id-1 div.sk-serial {display: flex;flex-direction: column;align-items: center;background-color: white;padding-right: 0.2em;padding-left: 0.2em;position: relative;}#sk-container-id-1 div.sk-item {position: relative;z-index: 1;}#sk-container-id-1 div.sk-parallel {display: flex;align-items: stretch;justify-content: center;background-color: white;position: relative;}#sk-container-id-1 div.sk-item::before, #sk-container-id-1 div.sk-parallel-item::before {content: \"\";position: absolute;border-left: 1px solid gray;box-sizing: border-box;top: 0;bottom: 0;left: 50%;z-index: -1;}#sk-container-id-1 div.sk-parallel-item {display: flex;flex-direction: column;z-index: 1;position: relative;background-color: white;}#sk-container-id-1 div.sk-parallel-item:first-child::after {align-self: flex-end;width: 50%;}#sk-container-id-1 div.sk-parallel-item:last-child::after {align-self: flex-start;width: 50%;}#sk-container-id-1 div.sk-parallel-item:only-child::after {width: 0;}#sk-container-id-1 div.sk-dashed-wrapped {border: 1px dashed gray;margin: 0 0.4em 0.5em 0.4em;box-sizing: border-box;padding-bottom: 0.4em;background-color: white;}#sk-container-id-1 div.sk-label label {font-family: monospace;font-weight: bold;display: inline-block;line-height: 1.2em;}#sk-container-id-1 div.sk-label-container {text-align: center;}#sk-container-id-1 div.sk-container {/* jupyter's `normalize.less` sets `[hidden] { display: none; }` but bootstrap.min.css set `[hidden] { display: none !important; }` so we also need the `!important` here to be able to override the default hidden behavior on the sphinx rendered scikit-learn.org. See: https://github.com/scikit-learn/scikit-learn/issues/21755 */display: inline-block !important;position: relative;}#sk-container-id-1 div.sk-text-repr-fallback {display: none;}</style><div id=\"sk-container-id-1\" class=\"sk-top-container\"><div class=\"sk-text-repr-fallback\"><pre>KNNRecommender()</pre><b>In a Jupyter environment, please rerun this cell to show the HTML representation or trust the notebook. <br />On GitHub, the HTML representation is unable to render, please try loading this page with nbviewer.org.</b></div><div class=\"sk-container\" hidden><div class=\"sk-item\"><div class=\"sk-estimator sk-toggleable\"><input class=\"sk-toggleable__control sk-hidden--visually\" id=\"sk-estimator-id-1\" type=\"checkbox\" checked><label for=\"sk-estimator-id-1\" class=\"sk-toggleable__label sk-toggleable__label-arrow\">KNNRecommender</label><div class=\"sk-toggleable__content\"><pre>KNNRecommender()</pre></div></div></div></div></div>"
      ],
      "text/plain": [
       "KNNRecommender()"
      ]
     },
     "execution_count": 30,
     "metadata": {},
     "output_type": "execute_result"
    }
   ],
   "source": [
    "%%time\n",
    "recommender = KNNRecommender()\n",
    "recommender.fit(corpus.docs())\n",
    "# recommender.save(RECOMMENDER_PATH)"
   ]
  },
  {
   "cell_type": "code",
   "execution_count": 31,
   "id": "53602aa7-59ce-4a46-a3b9-420f75d2e598",
   "metadata": {},
   "outputs": [
    {
     "name": "stdout",
     "output_type": "stream",
     "text": [
      "CPU times: user 262 ms, sys: 13 ms, total: 275 ms\n",
      "Wall time: 52.3 ms\n"
     ]
    },
    {
     "data": {
      "text/plain": [
       "array([[0, 1, 2],\n",
       "       [1, 0, 2],\n",
       "       [2, 0, 1]])"
      ]
     },
     "execution_count": 31,
     "metadata": {},
     "output_type": "execute_result"
    }
   ],
   "source": [
    "%%time\n",
    "recommender.transform(corpus.docs())"
   ]
  },
  {
   "cell_type": "markdown",
   "id": "65ac94f2-0f0b-49a8-87f5-159ce3ccbf1f",
   "metadata": {},
   "source": [
    "## Offering Recommendations"
   ]
  },
  {
   "cell_type": "code",
   "execution_count": 32,
   "id": "e0b2f52d-247a-497b-a334-0c846f755137",
   "metadata": {},
   "outputs": [],
   "source": [
    "corpus = HTMLPickledCorpusReader(CORPUS_PICKLED_ROOT.as_posix())"
   ]
  },
  {
   "cell_type": "code",
   "execution_count": 33,
   "id": "a9f94ad1-6e7b-4f7c-8088-22076f239ecc",
   "metadata": {},
   "outputs": [],
   "source": [
    "dialog = RecipeRecommender(\n",
    "    recipes=list(corpus.titles()),\n",
    "    recommender_path=RECOMMENDER_PATH\n",
    ")"
   ]
  },
  {
   "cell_type": "code",
   "execution_count": 34,
   "id": "7b6c6919-69f6-4faf-bbbe-d7157f916da1",
   "metadata": {},
   "outputs": [],
   "source": [
    "# print(dialog.listen('What can I make with brie, tomatoes, capers, and pancetta?')[0])"
   ]
  }
 ],
 "metadata": {
  "kernelspec": {
   "display_name": "Python 3 (ipykernel)",
   "language": "python",
   "name": "python3"
  },
  "language_info": {
   "codemirror_mode": {
    "name": "ipython",
    "version": 3
   },
   "file_extension": ".py",
   "mimetype": "text/x-python",
   "name": "python",
   "nbconvert_exporter": "python",
   "pygments_lexer": "ipython3",
   "version": "3.8.11"
  }
 },
 "nbformat": 4,
 "nbformat_minor": 5
}
