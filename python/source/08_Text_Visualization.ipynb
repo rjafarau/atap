{
 "cells": [
  {
   "cell_type": "markdown",
   "id": "16adabf7-c0cc-4547-84eb-e6dc64b90844",
   "metadata": {
    "tags": []
   },
   "source": [
    "# Imports"
   ]
  },
  {
   "cell_type": "markdown",
   "id": "d6587c9f-8330-4a4e-a8d4-9c952ec87b35",
   "metadata": {},
   "source": [
    "# Constants"
   ]
  },
  {
   "cell_type": "markdown",
   "id": "12d65b17-3ddb-4999-ae8d-c41b6a021004",
   "metadata": {},
   "source": [
    "# Visualizing Feature Space"
   ]
  },
  {
   "cell_type": "markdown",
   "id": "b77515d9-759e-4cba-b8fb-0ac1555aa7b4",
   "metadata": {},
   "source": [
    "## Visual Feature Analysis"
   ]
  },
  {
   "cell_type": "markdown",
   "id": "d0ba4f3a-4238-490e-b875-94dd79c5198b",
   "metadata": {},
   "source": [
    "### n-gram viewer"
   ]
  },
  {
   "cell_type": "markdown",
   "id": "29e7066d-0415-4f58-86ab-fb39521a6ef5",
   "metadata": {},
   "source": [
    "### Network visualization"
   ]
  },
  {
   "cell_type": "markdown",
   "id": "d36da464-4653-400a-89d4-be7201bcc67e",
   "metadata": {},
   "source": [
    "### Co-occurrence plots"
   ]
  },
  {
   "cell_type": "markdown",
   "id": "3954942d-3e56-49cc-b59c-cd670ad2d758",
   "metadata": {},
   "source": [
    "### Text x-rays and dispersion plots"
   ]
  },
  {
   "cell_type": "markdown",
   "id": "f635fc7a-04be-4592-8b73-205eb0c390c5",
   "metadata": {},
   "source": [
    "## Guided Feature Engineering"
   ]
  },
  {
   "cell_type": "markdown",
   "id": "e66c3760-29f0-4220-ac8b-cf6866731794",
   "metadata": {},
   "source": [
    "### Part-of-speech tagging"
   ]
  },
  {
   "cell_type": "markdown",
   "id": "5bf7a89b-2a77-4661-93c7-27f0355a925e",
   "metadata": {},
   "source": [
    "### Most informative features"
   ]
  },
  {
   "cell_type": "markdown",
   "id": "45a83f62-a76e-4233-a4f5-339771b99525",
   "metadata": {},
   "source": [
    "# Model Diagnostics"
   ]
  },
  {
   "cell_type": "markdown",
   "id": "cece33b2-cc8d-4b2f-9ce4-056f63e830cb",
   "metadata": {},
   "source": [
    "## Visualizing Clusters"
   ]
  },
  {
   "cell_type": "markdown",
   "id": "5a6cff5f-140b-4df7-8f58-e5dc6736020d",
   "metadata": {},
   "source": [
    "## Visualizing Classes"
   ]
  },
  {
   "cell_type": "markdown",
   "id": "7f6c9c1f-b6ae-4060-bf5b-deac920d9bfc",
   "metadata": {},
   "source": [
    "## Diagnosing Classification Error"
   ]
  },
  {
   "cell_type": "markdown",
   "id": "164c40e2-bfea-4e47-af27-b40525755433",
   "metadata": {},
   "source": [
    "### Classification report heatmaps"
   ]
  },
  {
   "cell_type": "markdown",
   "id": "3480662c-1bf1-4d8b-b0bc-513747e9e31e",
   "metadata": {},
   "source": [
    "### Confusion matrices"
   ]
  },
  {
   "cell_type": "markdown",
   "id": "62acbcd3-3a44-4aff-a5a2-c0908b36b0c6",
   "metadata": {},
   "source": [
    "# Visual Steering"
   ]
  },
  {
   "cell_type": "markdown",
   "id": "7483a3cc-d167-4d43-87a9-bc2ab41f3a75",
   "metadata": {},
   "source": [
    "## Silhouette Scores and Elbow Curves"
   ]
  },
  {
   "cell_type": "markdown",
   "id": "506d8bdf-2632-457f-9f89-0df3ed04827f",
   "metadata": {},
   "source": [
    "### Silhouette scores"
   ]
  },
  {
   "cell_type": "markdown",
   "id": "704e6375-7b59-41ba-a9bf-3c81c6c94af6",
   "metadata": {},
   "source": [
    "### Elbow curves"
   ]
  }
 ],
 "metadata": {
  "kernelspec": {
   "display_name": "Python 3 (ipykernel)",
   "language": "python",
   "name": "python3"
  },
  "language_info": {
   "codemirror_mode": {
    "name": "ipython",
    "version": 3
   },
   "file_extension": ".py",
   "mimetype": "text/x-python",
   "name": "python",
   "nbconvert_exporter": "python",
   "pygments_lexer": "ipython3",
   "version": "3.8.11"
  }
 },
 "nbformat": 4,
 "nbformat_minor": 5
}
