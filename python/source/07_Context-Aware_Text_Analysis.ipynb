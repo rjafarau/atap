{
 "cells": [
  {
   "cell_type": "markdown",
   "id": "8bf23ce4-d2ab-441d-a53e-efca4c547540",
   "metadata": {
    "tags": []
   },
   "source": [
    "# Imports"
   ]
  },
  {
   "cell_type": "code",
   "execution_count": 1,
   "id": "ef32cac0-6e99-410a-9c1c-7fea632f090a",
   "metadata": {},
   "outputs": [],
   "source": [
    "import nltk"
   ]
  },
  {
   "cell_type": "markdown",
   "id": "bbd7eb6b-59a4-4304-9326-d96251702e09",
   "metadata": {},
   "source": [
    "# Constants"
   ]
  },
  {
   "cell_type": "markdown",
   "id": "0451ed36-33c4-4139-9c39-2fc1ad19a5f4",
   "metadata": {},
   "source": [
    "# Grammar-Based Feature Extraction"
   ]
  },
  {
   "cell_type": "markdown",
   "id": "754674ea-265d-4d65-843c-3c1799eaf8b5",
   "metadata": {},
   "source": [
    "## Context-Free Grammars"
   ]
  },
  {
   "cell_type": "code",
   "execution_count": 2,
   "id": "5cb46382-835f-4d86-baaf-303546791094",
   "metadata": {},
   "outputs": [],
   "source": [
    "GRAMMAR = \"\"\"\n",
    "    S -> NNP VP\n",
    "    VP -> V PP\n",
    "    PP -> P NP\n",
    "    NP -> DT N\n",
    "    NNP -> 'Gwen' | 'George'\n",
    "    V -> 'looks' | 'burns'\n",
    "    P -> 'in' | 'for'\n",
    "    DT -> 'the'\n",
    "    N -> 'castle' | 'ocean'\n",
    "\"\"\""
   ]
  },
  {
   "cell_type": "code",
   "execution_count": 3,
   "id": "15b3f75a-6b63-4528-92dd-47ffc9af6fc4",
   "metadata": {},
   "outputs": [],
   "source": [
    "cfg = nltk.CFG.fromstring(GRAMMAR)"
   ]
  },
  {
   "cell_type": "code",
   "execution_count": 4,
   "id": "6eb60453-9343-4aba-91ed-30cf5afbaafd",
   "metadata": {},
   "outputs": [
    {
     "name": "stdout",
     "output_type": "stream",
     "text": [
      "Grammar with 13 productions (start state = S)\n",
      "    S -> NNP VP\n",
      "    VP -> V PP\n",
      "    PP -> P NP\n",
      "    NP -> DT N\n",
      "    NNP -> 'Gwen'\n",
      "    NNP -> 'George'\n",
      "    V -> 'looks'\n",
      "    V -> 'burns'\n",
      "    P -> 'in'\n",
      "    P -> 'for'\n",
      "    DT -> 'the'\n",
      "    N -> 'castle'\n",
      "    N -> 'ocean'\n"
     ]
    }
   ],
   "source": [
    "print(cfg)"
   ]
  },
  {
   "cell_type": "code",
   "execution_count": 5,
   "id": "ca2b5634-46eb-4546-a290-258cf5a5fa83",
   "metadata": {},
   "outputs": [
    {
     "data": {
      "text/plain": [
       "S"
      ]
     },
     "execution_count": 5,
     "metadata": {},
     "output_type": "execute_result"
    }
   ],
   "source": [
    "cfg.start()"
   ]
  },
  {
   "cell_type": "code",
   "execution_count": 6,
   "id": "c409830e-9c7f-4b99-b8a3-992f3390e51a",
   "metadata": {},
   "outputs": [
    {
     "data": {
      "text/plain": [
       "[S -> NNP VP,\n",
       " VP -> V PP,\n",
       " PP -> P NP,\n",
       " NP -> DT N,\n",
       " NNP -> 'Gwen',\n",
       " NNP -> 'George',\n",
       " V -> 'looks',\n",
       " V -> 'burns',\n",
       " P -> 'in',\n",
       " P -> 'for',\n",
       " DT -> 'the',\n",
       " N -> 'castle',\n",
       " N -> 'ocean']"
      ]
     },
     "execution_count": 6,
     "metadata": {},
     "output_type": "execute_result"
    }
   ],
   "source": [
    "cfg.productions()"
   ]
  },
  {
   "cell_type": "markdown",
   "id": "c7e7fc77-a07c-4bdf-9e60-5a1f1437f774",
   "metadata": {},
   "source": [
    "## Syntactic Parsers"
   ]
  },
  {
   "cell_type": "markdown",
   "id": "ab04e4ea-bd48-4730-b207-2e1bfc5240ec",
   "metadata": {},
   "source": [
    "## Extracting Keyphrases"
   ]
  },
  {
   "cell_type": "markdown",
   "id": "188512be-0fea-42ea-8f71-2c25f473906c",
   "metadata": {},
   "source": [
    "## Extracting Entities"
   ]
  },
  {
   "cell_type": "markdown",
   "id": "d3fc7747-2ab9-4204-8ad4-d93a862e6e1f",
   "metadata": {},
   "source": [
    "# n-Gram Feature Extraction"
   ]
  },
  {
   "cell_type": "markdown",
   "id": "075cd1cf-baea-415f-a627-f93f1519a526",
   "metadata": {},
   "source": [
    "## An n-Gram-Aware CorpusReader"
   ]
  },
  {
   "cell_type": "markdown",
   "id": "b0edf47e-2f0d-4bed-94ac-4ad2386f88d6",
   "metadata": {},
   "source": [
    "## Choosing the Right n-Gram Window"
   ]
  },
  {
   "cell_type": "markdown",
   "id": "157ff500-678a-4d70-b408-74f0b4818845",
   "metadata": {},
   "source": [
    "## Significant Collocations"
   ]
  },
  {
   "cell_type": "markdown",
   "id": "bf2902dd-8dca-4c8f-a2b0-e86dcbcdf220",
   "metadata": {},
   "source": [
    "# n-Gram Language Models"
   ]
  },
  {
   "cell_type": "markdown",
   "id": "58d9cb7c-6efb-475d-883a-d5dcf7ddf865",
   "metadata": {},
   "source": [
    "## Frequency and Conditional Frequency"
   ]
  },
  {
   "cell_type": "markdown",
   "id": "6390e135-14ce-410e-89c5-ce22040e0aab",
   "metadata": {},
   "source": [
    "## Estimating Maximum Likelihood"
   ]
  },
  {
   "cell_type": "markdown",
   "id": "30aea820-78df-4488-9e73-6c75a36ee1b7",
   "metadata": {},
   "source": [
    "## Unknown Words: Back-off and Smoothing"
   ]
  },
  {
   "cell_type": "markdown",
   "id": "87e258e2-6290-4a08-8b16-3784d0d1cb6d",
   "metadata": {},
   "source": [
    "## Language Generation"
   ]
  }
 ],
 "metadata": {
  "kernelspec": {
   "display_name": "Python 3 (ipykernel)",
   "language": "python",
   "name": "python3"
  },
  "language_info": {
   "codemirror_mode": {
    "name": "ipython",
    "version": 3
   },
   "file_extension": ".py",
   "mimetype": "text/x-python",
   "name": "python",
   "nbconvert_exporter": "python",
   "pygments_lexer": "ipython3",
   "version": "3.8.11"
  }
 },
 "nbformat": 4,
 "nbformat_minor": 5
}
