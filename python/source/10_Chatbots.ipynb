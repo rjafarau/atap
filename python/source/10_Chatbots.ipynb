{
 "cells": [
  {
   "cell_type": "markdown",
   "id": "bd0f38bd-e765-4214-b473-85b0a27bf699",
   "metadata": {
    "tags": []
   },
   "source": [
    "# Imports"
   ]
  },
  {
   "cell_type": "markdown",
   "id": "8bf3d35d-5c48-42af-9ab3-de62f533a570",
   "metadata": {},
   "source": [
    "# Constants"
   ]
  },
  {
   "cell_type": "markdown",
   "id": "d5655e8f-2582-4497-b773-f69113b465ab",
   "metadata": {},
   "source": [
    "# Classes"
   ]
  },
  {
   "cell_type": "markdown",
   "id": "4c465026-fc94-4c0c-8d4d-df94dd080201",
   "metadata": {},
   "source": [
    "# Fundamentals of Conversation"
   ]
  },
  {
   "cell_type": "markdown",
   "id": "78ae18e7-ce07-4e73-bc44-674f0e7f52d1",
   "metadata": {},
   "source": [
    "## Dialog: A Brief Exchange"
   ]
  },
  {
   "cell_type": "markdown",
   "id": "4ad9c8cc-d517-4ce2-bee7-6bcd1e67a665",
   "metadata": {},
   "source": [
    "## Maintaining a Conversation"
   ]
  },
  {
   "cell_type": "markdown",
   "id": "fa6eae5f-dea9-4d07-ae59-5dc25023cc49",
   "metadata": {},
   "source": [
    "# Rules for Polite Conversation"
   ]
  },
  {
   "cell_type": "markdown",
   "id": "1db900a7-f90d-4d0c-b1dc-3e62a98adb68",
   "metadata": {},
   "source": [
    "## Greetings and Salutations"
   ]
  },
  {
   "cell_type": "markdown",
   "id": "a6e48f17-fde7-42b1-9afa-1de65b099525",
   "metadata": {},
   "source": [
    "## Handling Miscommunication"
   ]
  },
  {
   "cell_type": "markdown",
   "id": "59278665-eb5d-499a-9f9c-9c4e5e15956a",
   "metadata": {},
   "source": [
    "# Entertaining Questions"
   ]
  },
  {
   "cell_type": "markdown",
   "id": "c8fdc554-6d8b-4f79-8d8f-ddeca1029954",
   "metadata": {},
   "source": [
    "## Dependency Parsing"
   ]
  },
  {
   "cell_type": "markdown",
   "id": "bb72001d-77ed-4795-8eec-b7023c927e48",
   "metadata": {},
   "source": [
    "## Constituency Parsing"
   ]
  },
  {
   "cell_type": "markdown",
   "id": "9ed82b72-ce01-47f9-aaa8-f5b4ac6198d3",
   "metadata": {},
   "source": [
    "## Question Detection"
   ]
  },
  {
   "cell_type": "markdown",
   "id": "f5ec764a-4e22-4b86-9e04-2d6d0fc7c1af",
   "metadata": {},
   "source": [
    "## From Tablespoons to Grams"
   ]
  },
  {
   "cell_type": "markdown",
   "id": "fff1c052-9a4a-478e-863b-dc5861a5c300",
   "metadata": {},
   "source": [
    "# Learning to Help"
   ]
  },
  {
   "cell_type": "markdown",
   "id": "04126e12-b9c9-4a85-abe7-218c98544d76",
   "metadata": {},
   "source": [
    "## Being Neighborly"
   ]
  },
  {
   "cell_type": "markdown",
   "id": "65ac94f2-0f0b-49a8-87f5-159ce3ccbf1f",
   "metadata": {},
   "source": [
    "## Offering Recommendations"
   ]
  }
 ],
 "metadata": {
  "kernelspec": {
   "display_name": "Python 3 (ipykernel)",
   "language": "python",
   "name": "python3"
  },
  "language_info": {
   "codemirror_mode": {
    "name": "ipython",
    "version": 3
   },
   "file_extension": ".py",
   "mimetype": "text/x-python",
   "name": "python",
   "nbconvert_exporter": "python",
   "pygments_lexer": "ipython3",
   "version": "3.8.11"
  }
 },
 "nbformat": 4,
 "nbformat_minor": 5
}
