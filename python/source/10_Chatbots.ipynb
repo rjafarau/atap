{
 "cells": [
  {
   "cell_type": "markdown",
   "id": "bd0f38bd-e765-4214-b473-85b0a27bf699",
   "metadata": {
    "tags": []
   },
   "source": [
    "# Imports"
   ]
  },
  {
   "cell_type": "code",
   "execution_count": 1,
   "id": "5153fe70-7397-4d09-b0a4-2b092436cefa",
   "metadata": {},
   "outputs": [],
   "source": [
    "import re\n",
    "import abc\n",
    "import pathlib\n",
    "import operator\n",
    "import collections"
   ]
  },
  {
   "cell_type": "code",
   "execution_count": 2,
   "id": "d9af50c7-6e1b-4ffa-a7d7-63862f935fd4",
   "metadata": {},
   "outputs": [],
   "source": [
    "import spacy\n",
    "import pytest\n",
    "import ipytest"
   ]
  },
  {
   "cell_type": "code",
   "execution_count": 3,
   "id": "fbbc843d-93ba-4349-94b9-2a8bf325e2ec",
   "metadata": {},
   "outputs": [],
   "source": [
    "ipytest.autoconfig()"
   ]
  },
  {
   "cell_type": "markdown",
   "id": "8bf3d35d-5c48-42af-9ab3-de62f533a570",
   "metadata": {},
   "source": [
    "# Constants"
   ]
  },
  {
   "cell_type": "code",
   "execution_count": 4,
   "id": "b89fe81d-6c74-443f-a461-cfcde7dc3591",
   "metadata": {},
   "outputs": [],
   "source": [
    "PROJECT_DIR = pathlib.Path('~/project').expanduser()\n",
    "DATA_DIR = PROJECT_DIR / 'data'\n",
    "SPACY_DATA = DATA_DIR / 'spacy_data'"
   ]
  },
  {
   "cell_type": "markdown",
   "id": "d5655e8f-2582-4497-b773-f69113b465ab",
   "metadata": {},
   "source": [
    "# Classes"
   ]
  },
  {
   "cell_type": "markdown",
   "id": "4c465026-fc94-4c0c-8d4d-df94dd080201",
   "metadata": {},
   "source": [
    "# Fundamentals of Conversation"
   ]
  },
  {
   "cell_type": "markdown",
   "id": "78ae18e7-ce07-4e73-bc44-674f0e7f52d1",
   "metadata": {},
   "source": [
    "## Dialog: A Brief Exchange"
   ]
  },
  {
   "cell_type": "code",
   "execution_count": 5,
   "id": "646098b3-5ec5-4ee3-b4b6-f3a1e9f380c5",
   "metadata": {},
   "outputs": [],
   "source": [
    "class Dialog(abc.ABC):\n",
    "    \"\"\"\n",
    "    A dialog listens for utterances, parses and interprets them, then updates\n",
    "    its internal state. It can then formulate a response on demand.\n",
    "    \"\"\"\n",
    "    def listen(self, text, need_response=True, **kwargs):\n",
    "        \"\"\"\n",
    "        A text utterance is passed in and parsed. It is then passed to the\n",
    "        interpret method to determine how to respond. If a response is\n",
    "        requested, the respond method is used to generate a text response\n",
    "        based on the most recent input and the current Dialog state.\n",
    "        \"\"\"\n",
    "        # Parse the input\n",
    "        sents = self.parse(text)\n",
    "        \n",
    "        # Interpret the input\n",
    "        sents, confidence, kwargs = self.interpret(sents, **kwargs)\n",
    "        \n",
    "        # Determine the response\n",
    "        response = (self.respond(sents, confidence, **kwargs)\n",
    "                    if need_response else None)\n",
    "        \n",
    "        # Return initiative\n",
    "        return response, confidence\n",
    "    \n",
    "    @abc.abstractmethod\n",
    "    def parse(self, text):\n",
    "        \"\"\"\n",
    "        Every dialog may need its own parsing strategy, some dialogs may need\n",
    "        dependency vs. constituency parses, others may simply require regular\n",
    "        expressions or chunkers.\n",
    "        \"\"\"\n",
    "        return []\n",
    "    \n",
    "    @abc.abstractmethod\n",
    "    def interpret(self, sents, **kwargs):\n",
    "        \"\"\"\n",
    "        Interprets the utterance passed in as a list of parsed sentences,\n",
    "        updates the internal state of the dialog, computes a confidence of the\n",
    "        interpretation. May also return arguments specific to the response\n",
    "        mechanism.\n",
    "        \"\"\"\n",
    "        return sents, 0.0, kwargs\n",
    "    \n",
    "    @abc.abstractmethod\n",
    "    def respond(self, sents, confidence, **kwargs):\n",
    "        \"\"\"\n",
    "        Creates a response given the input utterances and the current state of\n",
    "        the dialog, along with any arguments passed in from the listen or the\n",
    "        interpret methods.\n",
    "        \"\"\"\n",
    "        return None"
   ]
  },
  {
   "cell_type": "markdown",
   "id": "4ad9c8cc-d517-4ce2-bee7-6bcd1e67a665",
   "metadata": {},
   "source": [
    "## Maintaining a Conversation"
   ]
  },
  {
   "cell_type": "code",
   "execution_count": 6,
   "id": "706b9cac-d987-45e2-b0e9-a222d1b3a9d6",
   "metadata": {},
   "outputs": [],
   "source": [
    "class SimpleConversation(Dialog, collections.abc.Sequence):\n",
    "    \"\"\"\n",
    "    This is the most simple version of a conversation.\n",
    "    \"\"\"\n",
    "    \n",
    "    def __init__(self, dialogs):\n",
    "        self._dialogs = dialogs\n",
    "    \n",
    "    def __getitem__(self, idx):\n",
    "        return self._dialogs[idx]\n",
    "\n",
    "    def __len__(self):\n",
    "        return len(self._dialogs)\n",
    "    \n",
    "    def listen(self, text, need_response=True, **kwargs):\n",
    "        \"\"\"\n",
    "        Simply return the best confidence response\n",
    "        \"\"\"        \n",
    "        responses = [dialog.listen(text, need_response, **kwargs)\n",
    "                     for dialog in self._dialogs]\n",
    "        \n",
    "        # Responses is a list of (response, confidence) pairs\n",
    "        return max(responses, key=operator.itemgetter(1))\n",
    "    \n",
    "    def parse(self, text):\n",
    "        \"\"\"\n",
    "        Returns parses for all internal dialogs for debugging\n",
    "        \"\"\"\n",
    "        return [dialog.parse(text)\n",
    "                for dialog in self._dialogs]\n",
    "    \n",
    "    def interpret(self, sents, **kwargs):\n",
    "        \"\"\"\n",
    "        Returns interpretations for all internal dialogs for debugging\n",
    "        \"\"\"\n",
    "        return [dialog.interpret(sents, **kwargs)\n",
    "                for dialog in self._dialogs]\n",
    "\n",
    "    def respond(self, sents, confidence, **kwargs):\n",
    "        \"\"\"\n",
    "        Returns responses for all internal dialogs for debugging\n",
    "        \"\"\"\n",
    "        return [dialog.respond(sents, confidence, **kwargs)\n",
    "                for dialog in self._dialogs]"
   ]
  },
  {
   "cell_type": "markdown",
   "id": "fa6eae5f-dea9-4d07-ae59-5dc25023cc49",
   "metadata": {},
   "source": [
    "# Rules for Polite Conversation"
   ]
  },
  {
   "cell_type": "markdown",
   "id": "1db900a7-f90d-4d0c-b1dc-3e62a98adb68",
   "metadata": {},
   "source": [
    "## Greetings and Salutations"
   ]
  },
  {
   "cell_type": "code",
   "execution_count": 7,
   "id": "75e5ba64-c289-4005-93b8-f182005012ec",
   "metadata": {},
   "outputs": [],
   "source": [
    "class Greeting(Dialog):\n",
    "    \"\"\"\n",
    "    Keeps track of the participants entering or leaving the conversation and\n",
    "    responds with appropriate salutations. This is an example of a rules based\n",
    "    system that keeps track of state and uses regular expressions and logic to\n",
    "    handle the dialog.\n",
    "    \"\"\"\n",
    "    \n",
    "    PATTERNS = {\n",
    "        'greeting': r'hello|hi|hey|good morning|good evening',\n",
    "        'introduction': r'my name is ([a-z\\-\\s]+)',\n",
    "        'goodbye': r'goodbye|bye|ttyl',\n",
    "        'rollcall': r'roll call|who\\'s here?'\n",
    "    }\n",
    "    \n",
    "    def __init__(self, participants=None):\n",
    "        # Participants is a map of user name to real name\n",
    "        self.participants = {}\n",
    "        \n",
    "        if participants is not None:\n",
    "            for participant in participants:\n",
    "                self.participants[participant] = None\n",
    "        \n",
    "        # Compile regular expressions\n",
    "        self._patterns = {\n",
    "            key: re.compile(pattern, re.I)\n",
    "            for key, pattern in self.PATTERNS.items()\n",
    "        }\n",
    "    \n",
    "    def parse(self, text):\n",
    "        \"\"\"\n",
    "        Applies all regular expressions to the text to find matches.\n",
    "        \"\"\"\n",
    "        return {\n",
    "            key: match\n",
    "            for key, pattern in self._patterns.items()\n",
    "            if (match := pattern.search(text))\n",
    "            and match is not None\n",
    "        }\n",
    "    \n",
    "    def interpret(self, sents, **kwargs):\n",
    "        \"\"\"\n",
    "        Takes in parsed matches and determines if the message is an enter,\n",
    "        exit, or name change.\n",
    "        \"\"\"\n",
    "        # Can't do anything with no matches\n",
    "        if len(sents) == 0:\n",
    "            return sents, 0.0, kwargs\n",
    "\n",
    "        # Get username from the participants\n",
    "        user = kwargs.get('user', None)\n",
    "        \n",
    "        # Determine if an introduction has been made\n",
    "        if 'introduction' in sents:\n",
    "            # Get the name from the utterance\n",
    "            name = sents['introduction'].groups()[0]\n",
    "            user = user or name.lower()\n",
    "\n",
    "            # Determine if name has changed\n",
    "            if (user not in self.participants\n",
    "                or self.participants[user] != name):\n",
    "                kwargs['name_changed'] = True\n",
    "            \n",
    "            # Update the participants\n",
    "            self.participants[user] = name\n",
    "            kwargs['user'] = user\n",
    "            \n",
    "        # Determine if a greeting has been made\n",
    "        if 'greeting' in sents:\n",
    "            # If we don't have a name for the user\n",
    "            if user not in self.participants:\n",
    "                kwargs['request_introduction'] = True\n",
    "\n",
    "        # Determine if goodbye has been made\n",
    "        if 'goodbye' in sents and user is not None:\n",
    "            # Remove participant\n",
    "            self.participants.pop(user)\n",
    "            kwargs.pop('user', None)\n",
    "        \n",
    "        # If we've seen anything we're looking for, we're pretty confident\n",
    "        return sents, 1.0, kwargs\n",
    "\n",
    "    def respond(self, sents, confidence, **kwargs):\n",
    "        \"\"\"\n",
    "        Gives a greeting or a goodbye depending on what's appropriate.\n",
    "        \"\"\"\n",
    "        if confidence == 0:\n",
    "            return None\n",
    "        \n",
    "        name = self.participants.get(kwargs.get('user', None), None)\n",
    "        name_changed = kwargs.get('name_changed', False)\n",
    "        request_introduction = kwargs.get('request_introduction', False)\n",
    "        \n",
    "        if 'greeting' in sents or 'introduction' in sents:\n",
    "            if request_introduction:\n",
    "                return \"Hello, what is your name?\"\n",
    "            else:\n",
    "                return \"Hello, {}!\".format(name)\n",
    "            \n",
    "        if 'goodbye' in sents:\n",
    "            return \"Talk to you later!\"\n",
    "        \n",
    "        if 'rollcall' in sents:\n",
    "            people = list(self.participants.values())\n",
    "            \n",
    "            if len(people) > 1:\n",
    "                roster = \", \".join(people[:-1])\n",
    "                roster += \" and {}.\".format(people[-1])\n",
    "                return \"Currently in the conversation are \" + roster\n",
    "            elif len(people) == 1:\n",
    "                return \"It's just you and me right now, {}.\".format(name)\n",
    "            else:\n",
    "                return \"So lonely in here by myself ... wait who is that?\"\n",
    "\n",
    "        raise Exception(\n",
    "            \"expected response to be returned, but could not find rule\"\n",
    "        )"
   ]
  },
  {
   "cell_type": "code",
   "execution_count": 8,
   "id": "cb3bcb60-60ad-4e3c-bda1-fcb16ada484a",
   "metadata": {},
   "outputs": [
    {
     "name": "stdout",
     "output_type": "stream",
     "text": [
      "Hello, what is your name?\n",
      "Hello, Jake!\n",
      "It's just you and me right now, Jake.\n",
      "Talk to you later!\n"
     ]
    }
   ],
   "source": [
    "dialog = Greeting()\n",
    "# `listen` returns (response, confidence) tuples; just print the response\n",
    "print(dialog.listen(\"Hello!\", user=\"jakevp321\")[0])\n",
    "print(dialog.listen(\"my name is Jake\", user=\"jakevp321\")[0])\n",
    "print(dialog.listen(\"Roll call!\", user=\"jakevp321\")[0])\n",
    "print(dialog.listen(\"Have to go, goodbye!\", user=\"jakevp321\")[0])"
   ]
  },
  {
   "cell_type": "code",
   "execution_count": 9,
   "id": "fafe6a2f-d33c-4a77-9e91-161de740dc27",
   "metadata": {},
   "outputs": [
    {
     "name": "stdout",
     "output_type": "stream",
     "text": [
      "Hello, what is your name?\n",
      "Hello, Jill!\n",
      "It's just you and me right now, None.\n"
     ]
    }
   ],
   "source": [
    "dialog = Greeting()\n",
    "print(dialog.listen(\"hey\", user=\"jillmonger\")[0])\n",
    "print(dialog.listen(\"my name is Jill.\", user=\"jillmonger\")[0])\n",
    "print(dialog.listen(\"who's here?\")[0])"
   ]
  },
  {
   "cell_type": "markdown",
   "id": "a6e48f17-fde7-42b1-9afa-1de65b099525",
   "metadata": {},
   "source": [
    "## Handling Miscommunication"
   ]
  },
  {
   "cell_type": "code",
   "execution_count": 10,
   "id": "9a20ad25-f248-4185-a56a-ab2bb9554778",
   "metadata": {},
   "outputs": [
    {
     "name": "stdout",
     "output_type": "stream",
     "text": [
      "\u001b[1m======================================= test session starts ========================================\u001b[0m\n",
      "platform linux -- Python 3.8.11, pytest-7.4.0, pluggy-1.2.0 -- /home/python/.local/share/virtualenvs/project-onCnT2CZ/bin/python\n",
      "cachedir: .pytest_cache\n",
      "rootdir: /home/python/project/source\n",
      "plugins: anyio-3.7.1\n",
      "\u001b[1mcollecting ... \u001b[0mcollected 3 items\n",
      "\n",
      "t_bb90df4d9f814219830191526d84e4c8.py::TestBaseClasses::test_dialog_abc[Gobbledeguk] \u001b[32mPASSED\u001b[0m\u001b[32m  [ 33%]\u001b[0m\n",
      "t_bb90df4d9f814219830191526d84e4c8.py::TestBaseClasses::test_dialog_abc[Gibberish] \u001b[32mPASSED\u001b[0m\u001b[32m    [ 66%]\u001b[0m\n",
      "t_bb90df4d9f814219830191526d84e4c8.py::TestBaseClasses::test_dialog_abc[Wingdings] \u001b[32mPASSED\u001b[0m\u001b[32m    [100%]\u001b[0m\n",
      "\n",
      "\u001b[32m======================================== \u001b[32m\u001b[1m3 passed\u001b[0m\u001b[32m in 0.03s\u001b[0m\u001b[32m =========================================\u001b[0m\n"
     ]
    }
   ],
   "source": [
    "%%ipytest -vv\n",
    "\n",
    "class TestBaseClasses(object):\n",
    "    \"\"\"\n",
    "    Tests for the Dialog class\n",
    "    \"\"\"\n",
    "    \n",
    "    @pytest.mark.parametrize(\"text\", [\n",
    "        \"Gobbledeguk\", \"Gibberish\", \"Wingdings\"\n",
    "    ])\n",
    "    def test_dialog_abc(self, text):\n",
    "        \"\"\"\n",
    "        Test the Dialog ABC and the listen method\n",
    "        \"\"\"\n",
    "        class SampleDialog(Dialog):\n",
    "            \n",
    "            def parse(self, text):\n",
    "                return []\n",
    "\n",
    "            def interpret(self, sents):\n",
    "                return sents, 0.0, {}\n",
    "            \n",
    "            def respond(self, sents, confidence):\n",
    "                return None\n",
    "\n",
    "        sample = SampleDialog()\n",
    "        reply, confidence = sample.listen(text)\n",
    "        assert confidence == 0.0\n",
    "        assert reply is None"
   ]
  },
  {
   "cell_type": "code",
   "execution_count": 11,
   "id": "48264dbc-32c5-4cae-b716-3b9a5778c6b6",
   "metadata": {},
   "outputs": [
    {
     "name": "stdout",
     "output_type": "stream",
     "text": [
      "\u001b[1m======================================= test session starts ========================================\u001b[0m\n",
      "platform linux -- Python 3.8.11, pytest-7.4.0, pluggy-1.2.0 -- /home/python/.local/share/virtualenvs/project-onCnT2CZ/bin/python\n",
      "cachedir: .pytest_cache\n",
      "rootdir: /home/python/project/source\n",
      "plugins: anyio-3.7.1\n",
      "\u001b[1mcollecting ... \u001b[0mcollected 8 items\n",
      "\n",
      "t_bb90df4d9f814219830191526d84e4c8.py::TestGreetingDialog::test_greeting_intro[w/ user-Hello!] \u001b[32mPASSED\u001b[0m\u001b[32m [ 12%]\u001b[0m\n",
      "t_bb90df4d9f814219830191526d84e4c8.py::TestGreetingDialog::test_greeting_intro[w/ user-hello] \u001b[32mPASSED\u001b[0m\u001b[32m [ 25%]\u001b[0m\n",
      "t_bb90df4d9f814219830191526d84e4c8.py::TestGreetingDialog::test_greeting_intro[w/ user-hey] \u001b[32mPASSED\u001b[0m\u001b[32m [ 37%]\u001b[0m\n",
      "t_bb90df4d9f814219830191526d84e4c8.py::TestGreetingDialog::test_greeting_intro[w/ user-hi] \u001b[32mPASSED\u001b[0m\u001b[32m [ 50%]\u001b[0m\n",
      "t_bb90df4d9f814219830191526d84e4c8.py::TestGreetingDialog::test_greeting_intro[w/o user-Hello!] \u001b[32mPASSED\u001b[0m\u001b[32m [ 62%]\u001b[0m\n",
      "t_bb90df4d9f814219830191526d84e4c8.py::TestGreetingDialog::test_greeting_intro[w/o user-hello] \u001b[32mPASSED\u001b[0m\u001b[32m [ 75%]\u001b[0m\n",
      "t_bb90df4d9f814219830191526d84e4c8.py::TestGreetingDialog::test_greeting_intro[w/o user-hey] \u001b[32mPASSED\u001b[0m\u001b[32m [ 87%]\u001b[0m\n",
      "t_bb90df4d9f814219830191526d84e4c8.py::TestGreetingDialog::test_greeting_intro[w/o user-hi] \u001b[32mPASSED\u001b[0m\u001b[32m [100%]\u001b[0m\n",
      "\n",
      "\u001b[32m======================================== \u001b[32m\u001b[1m8 passed\u001b[0m\u001b[32m in 0.05s\u001b[0m\u001b[32m =========================================\u001b[0m\n"
     ]
    }
   ],
   "source": [
    "%%ipytest -vv\n",
    "\n",
    "class TestGreetingDialog(object):\n",
    "    \"\"\"\n",
    "    Test expected input and responses for the Greeting dialog\n",
    "    \"\"\"\n",
    "\n",
    "    @pytest.mark.parametrize(\"text\", [\"Hello!\", \"hello\", 'hey', 'hi'])\n",
    "    @pytest.mark.parametrize(\"user\", [ \"jay\", None], ids=[\"w/ user\", \"w/o user\"])\n",
    "    def test_greeting_intro(self, user, text):\n",
    "        \"\"\"\n",
    "        Test that an initial greeting requests an introduction\n",
    "        \"\"\"\n",
    "        g = Greeting()\n",
    "        reply, confidence = g.listen(text, user=user)\n",
    "        assert confidence == 1.0\n",
    "        assert reply is not None\n",
    "        assert reply == \"Hello, what is your name?\""
   ]
  },
  {
   "cell_type": "code",
   "execution_count": 12,
   "id": "78995a6d-b49f-493e-8865-c975baba7d78",
   "metadata": {},
   "outputs": [
    {
     "name": "stdout",
     "output_type": "stream",
     "text": [
      "\u001b[1m======================================= test session starts ========================================\u001b[0m\n",
      "platform linux -- Python 3.8.11, pytest-7.4.0, pluggy-1.2.0 -- /home/python/.local/share/virtualenvs/project-onCnT2CZ/bin/python\n",
      "cachedir: .pytest_cache\n",
      "rootdir: /home/python/project/source\n",
      "plugins: anyio-3.7.1\n",
      "\u001b[1mcollecting ... \u001b[0mcollected 4 items\n",
      "\n",
      "t_bb90df4d9f814219830191526d84e4c8.py::TestGreetingDialog::test_initial_intro[w/ user-My name is Jake] \u001b[33mXPASS\u001b[0m\u001b[33m [ 25%]\u001b[0m\n",
      "t_bb90df4d9f814219830191526d84e4c8.py::TestGreetingDialog::test_initial_intro[w/ user-Hello, I'm Jake.] \u001b[33mXFAIL\u001b[0m\u001b[33m [ 50%]\u001b[0m\n",
      "t_bb90df4d9f814219830191526d84e4c8.py::TestGreetingDialog::test_initial_intro[w/o user-My name is Jake] \u001b[33mXPASS\u001b[0m\u001b[33m [ 75%]\u001b[0m\n",
      "t_bb90df4d9f814219830191526d84e4c8.py::TestGreetingDialog::test_initial_intro[w/o user-Hello, I'm Jake.] \u001b[33mXFAIL\u001b[0m\u001b[33m [100%]\u001b[0m\n",
      "\n",
      "\u001b[33m================================== \u001b[33m\u001b[1m2 xfailed\u001b[0m, \u001b[33m\u001b[1m2 xpassed\u001b[0m\u001b[33m in 0.09s\u001b[0m\u001b[33m ===================================\u001b[0m\n"
     ]
    }
   ],
   "source": [
    "%%ipytest -vv\n",
    "\n",
    "class TestGreetingDialog(object):\n",
    "    \"\"\"\n",
    "    Test expected input and responses for the Greeting dialog\n",
    "    \"\"\"\n",
    "\n",
    "    @pytest.mark.xfail(reason=\"a case that must be handled\")\n",
    "    @pytest.mark.parametrize(\"text\", [\"My name is Jake\", \"Hello, I'm Jake.\"])\n",
    "    @pytest.mark.parametrize(\"user\", [\"jkm\", None], ids=[\"w/ user\", \"w/o user\"])\n",
    "    def test_initial_intro(self, user, text):\n",
    "        \"\"\"\n",
    "        Test an initial introduction without greeting\n",
    "        \"\"\"\n",
    "        g = Greeting()\n",
    "        reply, confidence = g.listen(text, user=user)\n",
    "        assert confidence == 1.0\n",
    "        assert reply is not None\n",
    "        assert reply == \"Hello, Jake!\"\n",
    "\n",
    "        if user is None:\n",
    "            user = 'jake'\n",
    "\n",
    "        assert user in g.participants\n",
    "        assert g.participants[user] == 'Jake'"
   ]
  },
  {
   "cell_type": "markdown",
   "id": "59278665-eb5d-499a-9f9c-9c4e5e15956a",
   "metadata": {},
   "source": [
    "# Entertaining Questions"
   ]
  },
  {
   "cell_type": "markdown",
   "id": "c8fdc554-6d8b-4f79-8d8f-ddeca1029954",
   "metadata": {},
   "source": [
    "## Dependency Parsing"
   ]
  },
  {
   "cell_type": "code",
   "execution_count": 13,
   "id": "8b7f5d8d-682e-4296-bf4a-643923ee3d8b",
   "metadata": {},
   "outputs": [],
   "source": [
    "spacy_nlp = spacy.load(SPACY_DATA / 'en_core_web_sm')"
   ]
  },
  {
   "cell_type": "code",
   "execution_count": 14,
   "id": "3ed9b2eb-cd51-4e7d-bbe6-0b900c49e2af",
   "metadata": {},
   "outputs": [],
   "source": [
    "def plot_displacy_tree(sent):\n",
    "    doc = spacy_nlp(sent)\n",
    "    spacy.displacy.render(doc, style='dep')"
   ]
  },
  {
   "cell_type": "code",
   "execution_count": 15,
   "id": "fd269ab1-88ba-44b9-ba85-61b22c7d7ea7",
   "metadata": {},
   "outputs": [
    {
     "data": {
      "text/html": [
       "<span class=\"tex2jax_ignore\"><svg xmlns=\"http://www.w3.org/2000/svg\" xmlns:xlink=\"http://www.w3.org/1999/xlink\" xml:lang=\"en\" id=\"2179ec306e77475e832e9588cd6f6c76-0\" class=\"displacy\" width=\"1275\" height=\"312.0\" direction=\"ltr\" style=\"max-width: none; height: 312.0px; color: #000000; background: #ffffff; font-family: Arial; direction: ltr\">\n",
       "<text class=\"displacy-token\" fill=\"currentColor\" text-anchor=\"middle\" y=\"222.0\">\n",
       "    <tspan class=\"displacy-word\" fill=\"currentColor\" x=\"50\">How</tspan>\n",
       "    <tspan class=\"displacy-tag\" dy=\"2em\" fill=\"currentColor\" x=\"50\">SCONJ</tspan>\n",
       "</text>\n",
       "\n",
       "<text class=\"displacy-token\" fill=\"currentColor\" text-anchor=\"middle\" y=\"222.0\">\n",
       "    <tspan class=\"displacy-word\" fill=\"currentColor\" x=\"225\">many</tspan>\n",
       "    <tspan class=\"displacy-tag\" dy=\"2em\" fill=\"currentColor\" x=\"225\">ADJ</tspan>\n",
       "</text>\n",
       "\n",
       "<text class=\"displacy-token\" fill=\"currentColor\" text-anchor=\"middle\" y=\"222.0\">\n",
       "    <tspan class=\"displacy-word\" fill=\"currentColor\" x=\"400\">teaspoons</tspan>\n",
       "    <tspan class=\"displacy-tag\" dy=\"2em\" fill=\"currentColor\" x=\"400\">NOUN</tspan>\n",
       "</text>\n",
       "\n",
       "<text class=\"displacy-token\" fill=\"currentColor\" text-anchor=\"middle\" y=\"222.0\">\n",
       "    <tspan class=\"displacy-word\" fill=\"currentColor\" x=\"575\">are</tspan>\n",
       "    <tspan class=\"displacy-tag\" dy=\"2em\" fill=\"currentColor\" x=\"575\">AUX</tspan>\n",
       "</text>\n",
       "\n",
       "<text class=\"displacy-token\" fill=\"currentColor\" text-anchor=\"middle\" y=\"222.0\">\n",
       "    <tspan class=\"displacy-word\" fill=\"currentColor\" x=\"750\">in</tspan>\n",
       "    <tspan class=\"displacy-tag\" dy=\"2em\" fill=\"currentColor\" x=\"750\">ADP</tspan>\n",
       "</text>\n",
       "\n",
       "<text class=\"displacy-token\" fill=\"currentColor\" text-anchor=\"middle\" y=\"222.0\">\n",
       "    <tspan class=\"displacy-word\" fill=\"currentColor\" x=\"925\">a</tspan>\n",
       "    <tspan class=\"displacy-tag\" dy=\"2em\" fill=\"currentColor\" x=\"925\">DET</tspan>\n",
       "</text>\n",
       "\n",
       "<text class=\"displacy-token\" fill=\"currentColor\" text-anchor=\"middle\" y=\"222.0\">\n",
       "    <tspan class=\"displacy-word\" fill=\"currentColor\" x=\"1100\">tablespoon?</tspan>\n",
       "    <tspan class=\"displacy-tag\" dy=\"2em\" fill=\"currentColor\" x=\"1100\">NOUN</tspan>\n",
       "</text>\n",
       "\n",
       "<g class=\"displacy-arrow\">\n",
       "    <path class=\"displacy-arc\" id=\"arrow-2179ec306e77475e832e9588cd6f6c76-0-0\" stroke-width=\"2px\" d=\"M70,177.0 C70,89.5 220.0,89.5 220.0,177.0\" fill=\"none\" stroke=\"currentColor\"/>\n",
       "    <text dy=\"1.25em\" style=\"font-size: 0.8em; letter-spacing: 1px\">\n",
       "        <textPath xlink:href=\"#arrow-2179ec306e77475e832e9588cd6f6c76-0-0\" class=\"displacy-label\" startOffset=\"50%\" side=\"left\" fill=\"currentColor\" text-anchor=\"middle\">advmod</textPath>\n",
       "    </text>\n",
       "    <path class=\"displacy-arrowhead\" d=\"M70,179.0 L62,167.0 78,167.0\" fill=\"currentColor\"/>\n",
       "</g>\n",
       "\n",
       "<g class=\"displacy-arrow\">\n",
       "    <path class=\"displacy-arc\" id=\"arrow-2179ec306e77475e832e9588cd6f6c76-0-1\" stroke-width=\"2px\" d=\"M245,177.0 C245,89.5 395.0,89.5 395.0,177.0\" fill=\"none\" stroke=\"currentColor\"/>\n",
       "    <text dy=\"1.25em\" style=\"font-size: 0.8em; letter-spacing: 1px\">\n",
       "        <textPath xlink:href=\"#arrow-2179ec306e77475e832e9588cd6f6c76-0-1\" class=\"displacy-label\" startOffset=\"50%\" side=\"left\" fill=\"currentColor\" text-anchor=\"middle\">amod</textPath>\n",
       "    </text>\n",
       "    <path class=\"displacy-arrowhead\" d=\"M245,179.0 L237,167.0 253,167.0\" fill=\"currentColor\"/>\n",
       "</g>\n",
       "\n",
       "<g class=\"displacy-arrow\">\n",
       "    <path class=\"displacy-arc\" id=\"arrow-2179ec306e77475e832e9588cd6f6c76-0-2\" stroke-width=\"2px\" d=\"M420,177.0 C420,89.5 570.0,89.5 570.0,177.0\" fill=\"none\" stroke=\"currentColor\"/>\n",
       "    <text dy=\"1.25em\" style=\"font-size: 0.8em; letter-spacing: 1px\">\n",
       "        <textPath xlink:href=\"#arrow-2179ec306e77475e832e9588cd6f6c76-0-2\" class=\"displacy-label\" startOffset=\"50%\" side=\"left\" fill=\"currentColor\" text-anchor=\"middle\">nsubj</textPath>\n",
       "    </text>\n",
       "    <path class=\"displacy-arrowhead\" d=\"M420,179.0 L412,167.0 428,167.0\" fill=\"currentColor\"/>\n",
       "</g>\n",
       "\n",
       "<g class=\"displacy-arrow\">\n",
       "    <path class=\"displacy-arc\" id=\"arrow-2179ec306e77475e832e9588cd6f6c76-0-3\" stroke-width=\"2px\" d=\"M595,177.0 C595,89.5 745.0,89.5 745.0,177.0\" fill=\"none\" stroke=\"currentColor\"/>\n",
       "    <text dy=\"1.25em\" style=\"font-size: 0.8em; letter-spacing: 1px\">\n",
       "        <textPath xlink:href=\"#arrow-2179ec306e77475e832e9588cd6f6c76-0-3\" class=\"displacy-label\" startOffset=\"50%\" side=\"left\" fill=\"currentColor\" text-anchor=\"middle\">prep</textPath>\n",
       "    </text>\n",
       "    <path class=\"displacy-arrowhead\" d=\"M745.0,179.0 L753.0,167.0 737.0,167.0\" fill=\"currentColor\"/>\n",
       "</g>\n",
       "\n",
       "<g class=\"displacy-arrow\">\n",
       "    <path class=\"displacy-arc\" id=\"arrow-2179ec306e77475e832e9588cd6f6c76-0-4\" stroke-width=\"2px\" d=\"M945,177.0 C945,89.5 1095.0,89.5 1095.0,177.0\" fill=\"none\" stroke=\"currentColor\"/>\n",
       "    <text dy=\"1.25em\" style=\"font-size: 0.8em; letter-spacing: 1px\">\n",
       "        <textPath xlink:href=\"#arrow-2179ec306e77475e832e9588cd6f6c76-0-4\" class=\"displacy-label\" startOffset=\"50%\" side=\"left\" fill=\"currentColor\" text-anchor=\"middle\">det</textPath>\n",
       "    </text>\n",
       "    <path class=\"displacy-arrowhead\" d=\"M945,179.0 L937,167.0 953,167.0\" fill=\"currentColor\"/>\n",
       "</g>\n",
       "\n",
       "<g class=\"displacy-arrow\">\n",
       "    <path class=\"displacy-arc\" id=\"arrow-2179ec306e77475e832e9588cd6f6c76-0-5\" stroke-width=\"2px\" d=\"M770,177.0 C770,2.0 1100.0,2.0 1100.0,177.0\" fill=\"none\" stroke=\"currentColor\"/>\n",
       "    <text dy=\"1.25em\" style=\"font-size: 0.8em; letter-spacing: 1px\">\n",
       "        <textPath xlink:href=\"#arrow-2179ec306e77475e832e9588cd6f6c76-0-5\" class=\"displacy-label\" startOffset=\"50%\" side=\"left\" fill=\"currentColor\" text-anchor=\"middle\">pobj</textPath>\n",
       "    </text>\n",
       "    <path class=\"displacy-arrowhead\" d=\"M1100.0,179.0 L1108.0,167.0 1092.0,167.0\" fill=\"currentColor\"/>\n",
       "</g>\n",
       "</svg></span>"
      ],
      "text/plain": [
       "<IPython.core.display.HTML object>"
      ]
     },
     "metadata": {},
     "output_type": "display_data"
    }
   ],
   "source": [
    "plot_displacy_tree('How many teaspoons are in a tablespoon?')"
   ]
  },
  {
   "cell_type": "markdown",
   "id": "bb72001d-77ed-4795-8eec-b7023c927e48",
   "metadata": {},
   "source": [
    "## Constituency Parsing"
   ]
  },
  {
   "cell_type": "markdown",
   "id": "9ed82b72-ce01-47f9-aaa8-f5b4ac6198d3",
   "metadata": {},
   "source": [
    "## Question Detection"
   ]
  },
  {
   "cell_type": "markdown",
   "id": "f5ec764a-4e22-4b86-9e04-2d6d0fc7c1af",
   "metadata": {},
   "source": [
    "## From Tablespoons to Grams"
   ]
  },
  {
   "cell_type": "markdown",
   "id": "fff1c052-9a4a-478e-863b-dc5861a5c300",
   "metadata": {},
   "source": [
    "# Learning to Help"
   ]
  },
  {
   "cell_type": "markdown",
   "id": "04126e12-b9c9-4a85-abe7-218c98544d76",
   "metadata": {},
   "source": [
    "## Being Neighborly"
   ]
  },
  {
   "cell_type": "markdown",
   "id": "65ac94f2-0f0b-49a8-87f5-159ce3ccbf1f",
   "metadata": {},
   "source": [
    "## Offering Recommendations"
   ]
  }
 ],
 "metadata": {
  "kernelspec": {
   "display_name": "Python 3 (ipykernel)",
   "language": "python",
   "name": "python3"
  },
  "language_info": {
   "codemirror_mode": {
    "name": "ipython",
    "version": 3
   },
   "file_extension": ".py",
   "mimetype": "text/x-python",
   "name": "python",
   "nbconvert_exporter": "python",
   "pygments_lexer": "ipython3",
   "version": "3.8.11"
  }
 },
 "nbformat": 4,
 "nbformat_minor": 5
}
