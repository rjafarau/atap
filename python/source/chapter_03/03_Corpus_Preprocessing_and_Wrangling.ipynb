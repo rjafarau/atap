{
 "cells": [
  {
   "cell_type": "markdown",
   "id": "5ef60b48-2bb1-46d4-90e1-64f9791d751f",
   "metadata": {
    "tags": []
   },
   "source": [
    "# Imports"
   ]
  },
  {
   "cell_type": "code",
   "execution_count": 1,
   "id": "7a3f7ae9-b7d5-4ecf-9f26-e7a284a124e4",
   "metadata": {},
   "outputs": [],
   "source": [
    "import os\n",
    "import time\n",
    "import pickle\n",
    "import codecs\n",
    "import logging\n",
    "import pathlib"
   ]
  },
  {
   "cell_type": "code",
   "execution_count": 2,
   "id": "620a6808-0254-4c2a-a9b2-d195e64e4ceb",
   "metadata": {},
   "outputs": [],
   "source": [
    "import bs4\n",
    "import nltk"
   ]
  },
  {
   "cell_type": "markdown",
   "id": "324dd73a-c69e-4c61-a9e3-db6e52b0f007",
   "metadata": {},
   "source": [
    "# Constants"
   ]
  },
  {
   "cell_type": "code",
   "execution_count": 3,
   "id": "d060d77c-24bf-41ef-9dde-d2ed8003e9ed",
   "metadata": {},
   "outputs": [],
   "source": [
    "PROJECT_DIR = pathlib.Path('~/project').expanduser()\n",
    "DATA_DIR = PROJECT_DIR / 'data'"
   ]
  },
  {
   "cell_type": "markdown",
   "id": "ff098021-e662-4cec-9515-80b7c6de4851",
   "metadata": {},
   "source": [
    "# Breaking Down Documents"
   ]
  },
  {
   "cell_type": "markdown",
   "id": "1da8be9e-96d3-427c-af45-34ba79f75a71",
   "metadata": {
    "tags": []
   },
   "source": [
    "## Identifying and Extracting Core Content"
   ]
  },
  {
   "cell_type": "markdown",
   "id": "90174a8c-fc32-4449-8829-f2bf9f2708ab",
   "metadata": {},
   "source": [
    "## Deconstructing Documents into Paragraphs"
   ]
  },
  {
   "cell_type": "markdown",
   "id": "715732b9-16ce-4934-991d-4dc725b1d8bf",
   "metadata": {
    "tags": []
   },
   "source": [
    "## Segmentation: Breaking Out Sentences"
   ]
  },
  {
   "cell_type": "code",
   "execution_count": 4,
   "id": "9aa8cc99-ed84-4a0c-a9f1-8cdf5c2a6f3a",
   "metadata": {},
   "outputs": [],
   "source": [
    "def sents(paragraph):\n",
    "    for sentence in nltk.sent_tokenize(paragraph):\n",
    "        yield sentence"
   ]
  },
  {
   "cell_type": "code",
   "execution_count": 5,
   "id": "baf23c30-75bc-4b8e-bb3a-75c4597b9e1c",
   "metadata": {},
   "outputs": [],
   "source": [
    "def parse(textfile_path):\n",
    "    text = textfile_path.read_text()\n",
    "    return list(sents(text))"
   ]
  },
  {
   "cell_type": "code",
   "execution_count": 6,
   "id": "c6f44822-ea92-4974-8aa7-64b1a2ba0b38",
   "metadata": {},
   "outputs": [
    {
     "data": {
      "text/plain": [
       "['Beautiful is better than ugly.',\n",
       " 'Explicit is better than implicit.',\n",
       " 'Simple is better than complex.',\n",
       " 'Complex is better than complicated.',\n",
       " 'Flat is better than nested.',\n",
       " 'Sparse is better than dense.',\n",
       " 'Readability counts.',\n",
       " \"Special cases aren't special enough to break the rules.\",\n",
       " 'Although practicality beats purity.',\n",
       " 'Errors should never pass silently.',\n",
       " 'Unless explicitly silenced.',\n",
       " 'In the face of ambiguity, refuse the temptation to guess.',\n",
       " 'There should be one-- and preferably only one --obvious way to do it.',\n",
       " \"Although that way may not be obvious at first unless you're Dutch.\",\n",
       " 'Now is better than never.',\n",
       " 'Although never is often better than *right* now.',\n",
       " \"If the implementation is hard to explain, it's a bad idea.\",\n",
       " 'If the implementation is easy to explain, it may be a good idea.',\n",
       " \"Namespaces are one honking great idea -- let's do more of those!\"]"
      ]
     },
     "execution_count": 6,
     "metadata": {},
     "output_type": "execute_result"
    }
   ],
   "source": [
    "parse(DATA_DIR / 'zen.txt')"
   ]
  },
  {
   "cell_type": "code",
   "execution_count": 7,
   "id": "98e835ae-877f-49b6-a9c3-bf82e04af6e4",
   "metadata": {},
   "outputs": [
    {
     "data": {
      "text/plain": [
       "['Baa, baa, black sheep,\\nHave you any wool?',\n",
       " 'Yes, sir, yes, sir,\\nThree bags full;\\nOne for the master,\\nAnd one for the dame,\\nAnd one for the little boy\\nWho lives down the lane.']"
      ]
     },
     "execution_count": 7,
     "metadata": {},
     "output_type": "execute_result"
    }
   ],
   "source": [
    "parse(DATA_DIR / 'rhyme.txt')"
   ]
  },
  {
   "cell_type": "markdown",
   "id": "c84ab863-55bb-4031-83f6-7e912afdc34e",
   "metadata": {},
   "source": [
    "## Tokenization: Identifying Individual Tokens"
   ]
  },
  {
   "cell_type": "markdown",
   "id": "a3e0cae4-0761-429a-b7cb-468b823a99fb",
   "metadata": {
    "tags": []
   },
   "source": [
    "## Part-of-Speech Tagging"
   ]
  },
  {
   "cell_type": "code",
   "execution_count": 8,
   "id": "15f79b86-c80d-44b2-be9d-ee8857083dbd",
   "metadata": {},
   "outputs": [],
   "source": [
    "def sents(paragraph):\n",
    "    for sentence in nltk.sent_tokenize(paragraph):\n",
    "        yield sentence"
   ]
  },
  {
   "cell_type": "code",
   "execution_count": 9,
   "id": "bd54be71-b087-4ab1-a0fb-e2eef89bc845",
   "metadata": {},
   "outputs": [],
   "source": [
    "def tokenize(paragraph):\n",
    "    for sentence in sents(paragraph):\n",
    "        yield nltk.pos_tag(nltk.wordpunct_tokenize(sentence))"
   ]
  },
  {
   "cell_type": "code",
   "execution_count": 10,
   "id": "b1f7ddfd-5343-4978-8122-4745e9eaa1e9",
   "metadata": {},
   "outputs": [],
   "source": [
    "sample_text = \"The old building is scheduled for demolition. The contractors will begin building a new structure next month.\""
   ]
  },
  {
   "cell_type": "code",
   "execution_count": 11,
   "id": "3cdc8b4d-d0bc-4d38-bd9e-33e451c17d2f",
   "metadata": {},
   "outputs": [
    {
     "data": {
      "text/plain": [
       "[[('The', 'DT'),\n",
       "  ('old', 'JJ'),\n",
       "  ('building', 'NN'),\n",
       "  ('is', 'VBZ'),\n",
       "  ('scheduled', 'VBN'),\n",
       "  ('for', 'IN'),\n",
       "  ('demolition', 'NN'),\n",
       "  ('.', '.')],\n",
       " [('The', 'DT'),\n",
       "  ('contractors', 'NNS'),\n",
       "  ('will', 'MD'),\n",
       "  ('begin', 'VB'),\n",
       "  ('building', 'VBG'),\n",
       "  ('a', 'DT'),\n",
       "  ('new', 'JJ'),\n",
       "  ('structure', 'NN'),\n",
       "  ('next', 'JJ'),\n",
       "  ('month', 'NN'),\n",
       "  ('.', '.')]]"
      ]
     },
     "execution_count": 11,
     "metadata": {},
     "output_type": "execute_result"
    }
   ],
   "source": [
    "list(tokenize(sample_text))"
   ]
  },
  {
   "cell_type": "markdown",
   "id": "75c0695d-fd14-44f3-a02d-772fc470b3bf",
   "metadata": {},
   "source": [
    "## Intermediate Corpus Analytics"
   ]
  },
  {
   "cell_type": "code",
   "execution_count": 12,
   "id": "34cb744c-a4d9-48b5-a6b3-523d2a2901b5",
   "metadata": {},
   "outputs": [],
   "source": [
    "from nltk.corpus.reader.api import CorpusReader\n",
    "from nltk.corpus.reader.api import CategorizedCorpusReader"
   ]
  },
  {
   "cell_type": "code",
   "execution_count": 13,
   "id": "0441756b-6991-4e9b-a49d-59c4752eca55",
   "metadata": {},
   "outputs": [],
   "source": [
    "from readability.readability import Unparseable\n",
    "from readability.readability import Document as Paper"
   ]
  },
  {
   "cell_type": "code",
   "execution_count": 14,
   "id": "80e835c7-b2a7-4375-810f-5e30954c2707",
   "metadata": {},
   "outputs": [],
   "source": [
    "log = logging.getLogger(\"readability.readability\")\n",
    "log.setLevel('WARNING')"
   ]
  },
  {
   "cell_type": "code",
   "execution_count": 15,
   "id": "1af2a136-cca4-44a3-b34f-ad3491b3c41c",
   "metadata": {},
   "outputs": [],
   "source": [
    "DOC_PATTERN = r'(?!\\.)[a-z_\\s]+/[a-f0-9]+\\.json'\n",
    "CAT_PATTERN = r'([a-z_\\s]+)/.*'"
   ]
  },
  {
   "cell_type": "code",
   "execution_count": 16,
   "id": "9fdc1057-7961-43e2-93b2-132c3479ab08",
   "metadata": {},
   "outputs": [],
   "source": [
    "TAGS = ['h1', 'h2', 'h3', 'h4', 'h5', 'h6', 'p', 'li']"
   ]
  },
  {
   "cell_type": "code",
   "execution_count": 17,
   "id": "22287792-cf88-487f-85f6-ccb0f8df06d1",
   "metadata": {},
   "outputs": [],
   "source": [
    "class HTMLCorpusReader(CategorizedCorpusReader, CorpusReader):\n",
    "    \"\"\"\n",
    "    A corpus reader for raw HTML documents to enable preprocessing.\n",
    "    \"\"\"\n",
    "\n",
    "    def __init__(self, root, fileids=DOC_PATTERN, encoding='utf8',\n",
    "                 tags=TAGS, **kwargs):\n",
    "        \"\"\"\n",
    "        Initialize the corpus reader.  Categorization arguments\n",
    "        (``cat_pattern``, ``cat_map``, and ``cat_file``) are passed to\n",
    "        the ``CategorizedCorpusReader`` constructor.  The remaining\n",
    "        arguments are passed to the ``CorpusReader`` constructor.\n",
    "        \"\"\"\n",
    "        # Add the default category pattern if not passed into the class.\n",
    "        if not any(key.startswith('cat_') for key in kwargs.keys()):\n",
    "            kwargs['cat_pattern'] = CAT_PATTERN\n",
    "\n",
    "        # Initialize the NLTK corpus reader objects\n",
    "        CategorizedCorpusReader.__init__(self, kwargs)\n",
    "        CorpusReader.__init__(self, root, fileids, encoding)\n",
    "\n",
    "        # Save the tags that we specifically want to extract.\n",
    "        self.tags = tags\n",
    "\n",
    "    def resolve(self, fileids, categories):\n",
    "        \"\"\"\n",
    "        Returns a list of fileids or categories depending on what is passed\n",
    "        to each internal corpus reader function. Implemented similarly to\n",
    "        the NLTK ``CategorizedPlaintextCorpusReader``.\n",
    "        \"\"\"\n",
    "        if fileids is not None and categories is not None:\n",
    "            raise ValueError(\"Specify fileids or categories, not both\")\n",
    "\n",
    "        if categories is not None:\n",
    "            return self.fileids(categories)\n",
    "        return fileids\n",
    "\n",
    "    def docs(self, fileids=None, categories=None):\n",
    "        \"\"\"\n",
    "        Returns the complete text of an HTML document, closing the document\n",
    "        after we are done reading it and yielding it in a memory safe fashion.\n",
    "        \"\"\"\n",
    "        # Resolve the fileids and the categories\n",
    "        fileids = self.resolve(fileids, categories)\n",
    "\n",
    "        # Create a generator, loading one document into memory at a time.\n",
    "        for path, encoding in self.abspaths(fileids, include_encoding=True):\n",
    "            with codecs.open(path, 'r', encoding=encoding) as f:\n",
    "                yield f.read()\n",
    "\n",
    "    def sizes(self, fileids=None, categories=None):\n",
    "        \"\"\"\n",
    "        Returns a list of tuples, the fileid and size on disk of the file.\n",
    "        This function is used to detect oddly large files in the corpus.\n",
    "        \"\"\"\n",
    "        # Resolve the fileids and the categories\n",
    "        fileids = self.resolve(fileids, categories)\n",
    "\n",
    "        # Create a generator, getting every path and computing filesize\n",
    "        for path in self.abspaths(fileids):\n",
    "            yield os.path.getsize(path)\n",
    "\n",
    "    def html(self, fileids=None, categories=None):\n",
    "        \"\"\"\n",
    "        Returns the HTML content of each document, cleaning it using\n",
    "        the readability-lxml library.\n",
    "        \"\"\"\n",
    "        for doc in self.docs(fileids, categories):\n",
    "            try:\n",
    "                yield Paper(doc).summary()\n",
    "            except Unparseable as e:\n",
    "                print(\"Could not parse HTML: {}\".format(e))\n",
    "                continue\n",
    "\n",
    "    def paras(self, fileids=None, categories=None):\n",
    "        \"\"\"\n",
    "        Uses BeautifulSoup to parse the paragraphs from the HTML.\n",
    "        \"\"\"\n",
    "        for html in self.html(fileids, categories):\n",
    "            soup = bs4.BeautifulSoup(html, 'lxml')\n",
    "            for element in soup.find_all(self.tags):\n",
    "                yield element.text\n",
    "            soup.decompose()\n",
    "\n",
    "    def sents(self, fileids=None, categories=None):\n",
    "        \"\"\"\n",
    "        Uses the built in sentence tokenizer to extract sentences from the\n",
    "        paragraphs. Note that this method uses BeautifulSoup to parse HTML.\n",
    "        \"\"\"\n",
    "        for paragraph in self.paras(fileids, categories):\n",
    "            for sentence in nltk.sent_tokenize(paragraph):\n",
    "                yield sentence\n",
    "\n",
    "    def words(self, fileids=None, categories=None):\n",
    "        \"\"\"\n",
    "        Uses the built in word tokenizer to extract tokens from sentences.\n",
    "        Note that this method uses BeautifulSoup to parse HTML content.\n",
    "        \"\"\"\n",
    "        for sentence in self.sents(fileids, categories):\n",
    "            for token in nltk.wordpunct_tokenize(sentence):\n",
    "                yield token\n",
    "\n",
    "    def tokenize(self, fileids=None, categories=None):\n",
    "        \"\"\"\n",
    "        Segments, tokenizes, and tags a document in the corpus.\n",
    "        \"\"\"\n",
    "        for paragraph in self.paras(fileids, categories):\n",
    "            yield [\n",
    "                nltk.pos_tag(nltk.wordpunct_tokenize(sent))\n",
    "                for sent in nltk.sent_tokenize(paragraph)\n",
    "            ]\n",
    "\n",
    "    def describe(self, fileids=None, categories=None):\n",
    "        \"\"\"\n",
    "        Performs a single pass of the corpus and\n",
    "        returns a dictionary with a variety of metrics\n",
    "        concerning the state of the corpus.\n",
    "        \"\"\"\n",
    "        started = time.time()\n",
    "\n",
    "        # Structures to perform counting.\n",
    "        counts  = nltk.FreqDist()\n",
    "        tokens  = nltk.FreqDist()\n",
    "\n",
    "        # Perform single pass over paragraphs, tokenize and count\n",
    "        for para in self.paras(fileids, categories):\n",
    "            counts['paras'] += 1\n",
    "\n",
    "            for sent in sent_tokenize(para):\n",
    "                counts['sents'] += 1\n",
    "\n",
    "                for word in wordpunct_tokenize(sent):\n",
    "                    counts['words'] += 1\n",
    "                    tokens[word] += 1\n",
    "\n",
    "        # Compute the number of files and categories in the corpus\n",
    "        n_fileids = len(self.resolve(fileids, categories) or self.fileids())\n",
    "        n_topics  = len(self.categories(self.resolve(fileids, categories)))\n",
    "\n",
    "        # Return data structure with information\n",
    "        return {\n",
    "            'files':  n_fileids,\n",
    "            'topics': n_topics,\n",
    "            'paras':  counts['paras'],\n",
    "            'sents':  counts['sents'],\n",
    "            'words':  counts['words'],\n",
    "            'vocab':  len(tokens),\n",
    "            'lexdiv': counts['words'] / len(tokens),\n",
    "            'ppdoc':  counts['paras'] / n_fileids,\n",
    "            'sppar':  counts['sents'] / counts['paras'],\n",
    "            'secs':   time.time() - started,\n",
    "        }"
   ]
  },
  {
   "cell_type": "markdown",
   "id": "54e20aa1-f712-4273-a7aa-7a2026063242",
   "metadata": {},
   "source": [
    "# Corpus Transformation"
   ]
  },
  {
   "cell_type": "markdown",
   "id": "11427ef7-c166-4386-8aa9-cb611636bd0b",
   "metadata": {},
   "source": [
    "## Intermediate Preprocessing and Storage"
   ]
  },
  {
   "cell_type": "code",
   "execution_count": 18,
   "id": "a430f9e6-1da6-4106-b234-6d93f7f45e00",
   "metadata": {},
   "outputs": [],
   "source": [
    "class Preprocessor(object):\n",
    "    \"\"\"\n",
    "    The preprocessor wraps a corpus object (usually a `HTMLCorpusReader`)\n",
    "    and manages the stateful tokenization and part of speech tagging into a\n",
    "    directory that is stored in a format that can be read by the\n",
    "    `HTMLPickledCorpusReader`. This format is more compact and necessarily\n",
    "    removes a variety of fields from the document that are stored in the JSON\n",
    "    representation dumped from the Mongo database. This format however is more\n",
    "    easily accessed for common parsing activity.\n",
    "    \"\"\"\n",
    "\n",
    "    def __init__(self, corpus, target=None, **kwargs):\n",
    "        \"\"\"\n",
    "        The corpus is the `HTMLCorpusReader` to preprocess and pickle.\n",
    "        The target is the directory on disk to output the pickled corpus to.\n",
    "        \"\"\"\n",
    "        self.corpus = corpus\n",
    "        self.target = target\n",
    "\n",
    "    def fileids(self, fileids=None, categories=None):\n",
    "        \"\"\"\n",
    "        Helper function access the fileids of the corpus\n",
    "        \"\"\"\n",
    "        fileids = self.corpus.resolve(fileids, categories)\n",
    "        if fileids:\n",
    "            return fileids\n",
    "        return self.corpus.fileids()\n",
    "\n",
    "    def abspath(self, fileid):\n",
    "        \"\"\"\n",
    "        Returns the absolute path to the target fileid from the corpus fileid.\n",
    "        \"\"\"\n",
    "        # Find the directory, relative from the corpus root.\n",
    "        parent = os.path.relpath(\n",
    "            os.path.dirname(self.corpus.abspath(fileid)), self.corpus.root\n",
    "        )\n",
    "\n",
    "        # Compute the name parts to reconstruct\n",
    "        basename  = os.path.basename(fileid)\n",
    "        name, ext = os.path.splitext(basename)\n",
    "\n",
    "        # Create the pickle file extension\n",
    "        basename  = name + '.pickle'\n",
    "\n",
    "        # Return the path to the file relative to the target.\n",
    "        return os.path.normpath(os.path.join(self.target, parent, basename))\n",
    "\n",
    "    def tokenize(self, fileid):\n",
    "        \"\"\"\n",
    "        Segments, tokenizes, and tags a document in the corpus. Returns a\n",
    "        generator of paragraphs, which are lists of sentences, which in turn\n",
    "        are lists of part of speech tagged words.\n",
    "        \"\"\"\n",
    "        for paragraph in self.corpus.paras(fileids=fileid):\n",
    "            yield [\n",
    "                nltk.pos_tag(nltk.wordpunct_tokenize(sent))\n",
    "                for sent in nltk.sent_tokenize(paragraph)\n",
    "            ]\n",
    "\n",
    "    def process(self, fileid):\n",
    "        \"\"\"\n",
    "        For a single file does the following preprocessing work:\n",
    "            1. Checks the location on disk to make sure no errors occur.\n",
    "            2. Gets all paragraphs for the given text.\n",
    "            3. Segements the paragraphs with the sent_tokenizer\n",
    "            4. Tokenizes the sentences with the wordpunct_tokenizer\n",
    "            5. Tags the sentences using the default pos_tagger\n",
    "            6. Writes the document as a pickle to the target location.\n",
    "        This method is called multiple times from the transform runner.\n",
    "        \"\"\"\n",
    "        # Compute the outpath to write the file to.\n",
    "        target = self.abspath(fileid)\n",
    "        parent = os.path.dirname(target)\n",
    "\n",
    "        # Make sure the directory exists\n",
    "        if not os.path.exists(parent):\n",
    "            os.makedirs(parent)\n",
    "\n",
    "        # Make sure that the parent is a directory and not a file\n",
    "        if not os.path.isdir(parent):\n",
    "            raise ValueError(\n",
    "                \"Please supply a directory to write preprocessed data to.\"\n",
    "            )\n",
    "\n",
    "        # Create a data structure for the pickle\n",
    "        document = list(self.tokenize(fileid))\n",
    "\n",
    "        # Open and serialize the pickle to disk\n",
    "        with open(target, 'wb') as f:\n",
    "            pickle.dump(document, f, pickle.HIGHEST_PROTOCOL)\n",
    "\n",
    "        # Clean up the document\n",
    "        del document\n",
    "\n",
    "        # Return the target fileid\n",
    "        return target\n",
    "\n",
    "    def transform(self, fileids=None, categories=None):\n",
    "        \"\"\"\n",
    "        Transform the wrapped corpus, writing out the segmented, tokenized,\n",
    "        and part of speech tagged corpus as a pickle to the target directory.\n",
    "        This method will also directly copy files that are in the corpus.root\n",
    "        directory that are not matched by the corpus.fileids().\n",
    "        \"\"\"\n",
    "        # Make the target directory if it doesn't already exist\n",
    "        if not os.path.exists(self.target):\n",
    "            os.makedirs(self.target)\n",
    "\n",
    "        # Resolve the fileids to start processing and return the list of \n",
    "        # target file ids to pass to downstream transformers. \n",
    "        return [\n",
    "            self.process(fileid)\n",
    "            for fileid in self.fileids(fileids, categories)\n",
    "        ]"
   ]
  },
  {
   "cell_type": "markdown",
   "id": "21bab47b-9e30-42c4-a2a2-11b6261bbafc",
   "metadata": {},
   "source": [
    "## Reading the Processed Corpus"
   ]
  },
  {
   "cell_type": "code",
   "execution_count": 19,
   "id": "7fddee86-4437-429f-af03-ffc551c26992",
   "metadata": {},
   "outputs": [],
   "source": [
    "PKL_PATTERN = r'(?!\\.)[a-z_\\s]+/[a-f0-9]+\\.pickle'"
   ]
  },
  {
   "cell_type": "code",
   "execution_count": 20,
   "id": "b3d71f6a-a583-4b9c-a403-95ae300b4783",
   "metadata": {},
   "outputs": [],
   "source": [
    "class PickledCorpusReader(CategorizedCorpusReader, CorpusReader):\n",
    "\n",
    "    def __init__(self, root, fileids=PKL_PATTERN, **kwargs):\n",
    "        \"\"\"\n",
    "        Initialize the corpus reader.  Categorization arguments\n",
    "        (``cat_pattern``, ``cat_map``, and ``cat_file``) are passed to\n",
    "        the ``CategorizedCorpusReader`` constructor.  The remaining arguments\n",
    "        are passed to the ``CorpusReader`` constructor.\n",
    "        \"\"\"\n",
    "        # Add the default category pattern if not passed into the class.\n",
    "        if not any(key.startswith('cat_') for key in kwargs.keys()):\n",
    "            kwargs['cat_pattern'] = CAT_PATTERN\n",
    "\n",
    "        CategorizedCorpusReader.__init__(self, kwargs)\n",
    "        CorpusReader.__init__(self, root, fileids)\n",
    "\n",
    "    def resolve(self, fileids, categories):\n",
    "        \"\"\"\n",
    "        Returns a list of fileids or categories depending on what is passed\n",
    "        to each internal corpus reader function. This primarily bubbles up to\n",
    "        the high level ``docs`` method, but is implemented here similar to\n",
    "        the nltk ``CategorizedPlaintextCorpusReader``.\n",
    "        \"\"\"\n",
    "        if fileids is not None and categories is not None:\n",
    "            raise ValueError(\"Specify fileids or categories, not both\")\n",
    "\n",
    "        if categories is not None:\n",
    "            return self.fileids(categories)\n",
    "        return fileids\n",
    "\n",
    "    def docs(self, fileids=None, categories=None):\n",
    "        \"\"\"\n",
    "        Returns the document loaded from a pickled object for every file in\n",
    "        the corpus. Similar to the BaleenCorpusReader, this uses a generator\n",
    "        to acheive memory safe iteration.\n",
    "        \"\"\"\n",
    "        # Resolve the fileids and the categories\n",
    "        fileids = self.resolve(fileids, categories)\n",
    "\n",
    "        # Create a generator, loading one document into memory at a time.\n",
    "        for path, enc, fileid in self.abspaths(fileids, True, True):\n",
    "            with open(path, 'rb') as f:\n",
    "                yield pickle.load(f)\n",
    "\n",
    "    def paras(self, fileids=None, categories=None):\n",
    "        \"\"\"\n",
    "        Returns a generator of paragraphs where each paragraph is a list of\n",
    "        sentences, which is in turn a list of (token, tag) tuples.\n",
    "        \"\"\"\n",
    "        for doc in self.docs(fileids, categories):\n",
    "            for paragraph in doc:\n",
    "                yield paragraph\n",
    "\n",
    "    def sents(self, fileids=None, categories=None):\n",
    "        \"\"\"\n",
    "        Returns a generator of sentences where each sentence is a list of\n",
    "        (token, tag) tuples.\n",
    "        \"\"\"\n",
    "        for paragraph in self.paras(fileids, categories):\n",
    "            for sentence in paragraph:\n",
    "                yield sentence\n",
    "\n",
    "    def tagged(self, fileids=None, categories=None):\n",
    "        \"\"\"\n",
    "        Returns a generator of (token, tag) tuples.\n",
    "        \"\"\"\n",
    "        for sent in self.sents(fileids, categories):\n",
    "            for token, tag in sent:\n",
    "                yield token, tag\n",
    "\n",
    "    def words(self, fileids=None, categories=None):\n",
    "        \"\"\"\n",
    "        Returns a generator of tokens.\n",
    "        \"\"\"\n",
    "        for token, tag in self.tagged(fileids, categories):\n",
    "            yield token"
   ]
  }
 ],
 "metadata": {
  "kernelspec": {
   "display_name": "Python 3 (ipykernel)",
   "language": "python",
   "name": "python3"
  },
  "language_info": {
   "codemirror_mode": {
    "name": "ipython",
    "version": 3
   },
   "file_extension": ".py",
   "mimetype": "text/x-python",
   "name": "python",
   "nbconvert_exporter": "python",
   "pygments_lexer": "ipython3",
   "version": "3.8.11"
  }
 },
 "nbformat": 4,
 "nbformat_minor": 5
}
