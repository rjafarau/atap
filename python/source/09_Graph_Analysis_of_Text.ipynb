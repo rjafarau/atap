{
 "cells": [
  {
   "cell_type": "markdown",
   "id": "c7558e6a-b5ce-4475-ae71-4f0baa3ba02b",
   "metadata": {
    "tags": []
   },
   "source": [
    "# Imports"
   ]
  },
  {
   "cell_type": "markdown",
   "id": "b50a4869-f894-4946-a89a-cd25c8becea9",
   "metadata": {},
   "source": [
    "# Constants"
   ]
  },
  {
   "cell_type": "markdown",
   "id": "e8e01398-2a17-43a9-be34-1d3abab43321",
   "metadata": {},
   "source": [
    "# Graph Computation and Analysis"
   ]
  },
  {
   "cell_type": "markdown",
   "id": "067647d4-51ca-4d9c-b590-d3a55519ca6f",
   "metadata": {},
   "source": [
    "## Creating a Graph-Based Thesaurus"
   ]
  },
  {
   "cell_type": "markdown",
   "id": "e60f2ee2-27c6-41a0-9daf-94657b85cb50",
   "metadata": {},
   "source": [
    "## Analyzing Graph Structure"
   ]
  },
  {
   "cell_type": "markdown",
   "id": "2ec669e6-1bfd-487a-a291-14ecd1b38315",
   "metadata": {},
   "source": [
    "## Visual Analysis of Graphs"
   ]
  },
  {
   "cell_type": "markdown",
   "id": "16051b7e-3bfb-4d5c-a6db-18882a1a4f75",
   "metadata": {},
   "source": [
    "# Extracting Graphs from Text"
   ]
  },
  {
   "cell_type": "markdown",
   "id": "4fc7db44-d45c-44ed-91ab-983749b59ab0",
   "metadata": {},
   "source": [
    "## Creating a Social Graph"
   ]
  },
  {
   "cell_type": "markdown",
   "id": "98f70e53-e074-433b-ba81-68f29ca0e46c",
   "metadata": {},
   "source": [
    "### Finding entity pairs"
   ]
  },
  {
   "cell_type": "markdown",
   "id": "e1fb0659-b734-4709-b855-6424ebc193b2",
   "metadata": {},
   "source": [
    "### Property graphs"
   ]
  },
  {
   "cell_type": "markdown",
   "id": "dad402fa-0e50-4798-8d7e-22e12dab99b5",
   "metadata": {},
   "source": [
    "### Implementing the graph extraction"
   ]
  },
  {
   "cell_type": "markdown",
   "id": "1647dac7-d094-4810-8ac3-7a80f400b580",
   "metadata": {},
   "source": [
    "## Insights from the Social Graph"
   ]
  },
  {
   "cell_type": "markdown",
   "id": "0443c4af-dbd9-41d0-b4cf-4e69439c3b14",
   "metadata": {},
   "source": [
    "### Centrality"
   ]
  },
  {
   "cell_type": "markdown",
   "id": "065ad239-bbc1-42f5-8896-a4a7709aeb22",
   "metadata": {},
   "source": [
    "### Structural analysis"
   ]
  },
  {
   "cell_type": "markdown",
   "id": "e27ca3eb-d654-496a-851b-3b6415cdc6c7",
   "metadata": {},
   "source": [
    "# Entity Resolution"
   ]
  },
  {
   "cell_type": "markdown",
   "id": "d7daacab-7733-41e6-a49d-d28d8eb11e39",
   "metadata": {},
   "source": [
    "## Entity Resolution on a Graph"
   ]
  },
  {
   "cell_type": "markdown",
   "id": "17bbbe15-136a-4388-ac67-928276a9d13f",
   "metadata": {},
   "source": [
    "## Blocking with Structure"
   ]
  },
  {
   "cell_type": "markdown",
   "id": "1d447afe-4e15-4d44-a20b-b3600c7c36b2",
   "metadata": {},
   "source": [
    "## Fuzzy Blocking"
   ]
  }
 ],
 "metadata": {
  "kernelspec": {
   "display_name": "Python 3 (ipykernel)",
   "language": "python",
   "name": "python3"
  },
  "language_info": {
   "codemirror_mode": {
    "name": "ipython",
    "version": 3
   },
   "file_extension": ".py",
   "mimetype": "text/x-python",
   "name": "python",
   "nbconvert_exporter": "python",
   "pygments_lexer": "ipython3",
   "version": "3.8.11"
  }
 },
 "nbformat": 4,
 "nbformat_minor": 5
}
