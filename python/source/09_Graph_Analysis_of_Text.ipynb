{
 "cells": [
  {
   "cell_type": "markdown",
   "id": "c7558e6a-b5ce-4475-ae71-4f0baa3ba02b",
   "metadata": {
    "tags": []
   },
   "source": [
    "# Imports"
   ]
  },
  {
   "cell_type": "code",
   "execution_count": 1,
   "id": "0c82a0cb-ac04-4f3d-a58b-ef4519597324",
   "metadata": {},
   "outputs": [],
   "source": [
    "import heapq\n",
    "import pickle\n",
    "import pathlib\n",
    "import operator\n",
    "import tabulate\n",
    "import itertools\n",
    "import collections"
   ]
  },
  {
   "cell_type": "code",
   "execution_count": 2,
   "id": "9c895f6a-55e1-4fdd-9fb0-d467681aa27e",
   "metadata": {},
   "outputs": [],
   "source": [
    "import nltk\n",
    "import spacy\n",
    "import networkx as nx\n",
    "import matplotlib.pyplot as plt"
   ]
  },
  {
   "cell_type": "code",
   "execution_count": 3,
   "id": "26bd6f16-099e-4962-b949-c4717aadbadf",
   "metadata": {},
   "outputs": [],
   "source": [
    "from nltk.corpus import wordnet as wn\n",
    "from sklearn.base import BaseEstimator, TransformerMixin"
   ]
  },
  {
   "cell_type": "markdown",
   "id": "b50a4869-f894-4946-a89a-cd25c8becea9",
   "metadata": {},
   "source": [
    "# Constants"
   ]
  },
  {
   "cell_type": "code",
   "execution_count": 4,
   "id": "853181a0-d969-49f1-8382-e92ae363114f",
   "metadata": {},
   "outputs": [],
   "source": [
    "PROJECT_DIR = pathlib.Path('~/project').expanduser()\n",
    "DATA_DIR = PROJECT_DIR / 'data'\n",
    "CORPUS_ROOT = DATA_DIR / 'sample'\n",
    "SPACY_DATA = DATA_DIR / 'spacy_data'"
   ]
  },
  {
   "cell_type": "markdown",
   "id": "5b43eb36-de9e-429a-8171-b7fd075ba1b8",
   "metadata": {},
   "source": [
    "# Classes"
   ]
  },
  {
   "cell_type": "markdown",
   "id": "e17739ec-5175-4b39-a20f-5237647b8251",
   "metadata": {},
   "source": [
    "## PickledCorpusReader"
   ]
  },
  {
   "cell_type": "code",
   "execution_count": 5,
   "id": "4be2120b-cf93-4a06-a2c9-daf65d9554da",
   "metadata": {},
   "outputs": [],
   "source": [
    "DOC_PATTERN = r'(?!\\.)[a-z_\\s]+/[a-f0-9]+\\.json'\n",
    "PKL_PATTERN = r'(?!\\.)[a-z_\\s]+/[a-f0-9]+\\.pickle'\n",
    "CAT_PATTERN = r'([a-z_\\s]+)/.*'"
   ]
  },
  {
   "cell_type": "code",
   "execution_count": 6,
   "id": "3d6925a4-d325-459c-a37e-14c3ab67bca0",
   "metadata": {},
   "outputs": [],
   "source": [
    "from nltk.corpus.reader.api import CorpusReader\n",
    "from nltk.corpus.reader.api import CategorizedCorpusReader\n",
    "\n",
    "class PickledCorpusReader(CategorizedCorpusReader, CorpusReader):\n",
    "\n",
    "    def __init__(self, root, fileids=PKL_PATTERN, **kwargs):\n",
    "        \"\"\"\n",
    "        Initialize the corpus reader.  Categorization arguments\n",
    "        (``cat_pattern``, ``cat_map``, and ``cat_file``) are passed to\n",
    "        the ``CategorizedCorpusReader`` constructor.  The remaining arguments\n",
    "        are passed to the ``CorpusReader`` constructor.\n",
    "        \"\"\"\n",
    "        # Add the default category pattern if not passed into the class.\n",
    "        if not any(key.startswith('cat_') for key in kwargs.keys()):\n",
    "            kwargs['cat_pattern'] = CAT_PATTERN\n",
    "\n",
    "        CategorizedCorpusReader.__init__(self, kwargs)\n",
    "        CorpusReader.__init__(self, root, fileids)\n",
    "\n",
    "    def _resolve(self, fileids, categories):\n",
    "        \"\"\"\n",
    "        Returns a list of fileids or categories depending on what is passed\n",
    "        to each internal corpus reader function. This primarily bubbles up to\n",
    "        the high level ``docs`` method, but is implemented here similar to\n",
    "        the nltk ``CategorizedPlaintextCorpusReader``.\n",
    "        \"\"\"\n",
    "        if fileids is not None and categories is not None:\n",
    "            raise ValueError(\"Specify fileids or categories, not both\")\n",
    "\n",
    "        if categories is not None:\n",
    "            return self.fileids(categories)\n",
    "        return fileids\n",
    "    \n",
    "    def feeds(self):\n",
    "        data = self.open('feeds.json')\n",
    "        return json.load(data)\n",
    "\n",
    "    def docs(self, fileids=None, categories=None):\n",
    "        \"\"\"\n",
    "        Returns the document loaded from a pickled object for every file in\n",
    "        the corpus. Similar to the BaleenCorpusReader, this uses a generator\n",
    "        to acheive memory safe iteration.\n",
    "        \"\"\"\n",
    "        # Resolve the fileids and the categories\n",
    "        fileids = self._resolve(fileids, categories)\n",
    "\n",
    "        # Create a generator, loading one document into memory at a time.\n",
    "        for path, enc, fileid in self.abspaths(fileids, True, True):\n",
    "            with open(path, 'rb') as f:\n",
    "                yield pickle.load(f)\n",
    "\n",
    "    def tagged_paras(self, fileids=None, categories=None):\n",
    "        \"\"\"\n",
    "        Returns a generator of paragraphs where each paragraph is a list of\n",
    "        sentences, which is in turn a list of (token, tag) tuples.\n",
    "        \"\"\"\n",
    "        for doc in self.docs(fileids, categories):\n",
    "            for tagged_para in doc:\n",
    "                yield tagged_para\n",
    "    \n",
    "    def paras(self, fileids=None, categories=None):\n",
    "        \"\"\"\n",
    "        Returns a generator of paragraphs where each paragraph is a list of\n",
    "        sentences, which is in turn a list of tokens.\n",
    "        \"\"\"\n",
    "        for tagged_para in self.tagged_paras(fileids, categories):\n",
    "            yield [[word for word, tag in tagged_sent]\n",
    "                   for tagged_sent in tagged_para]\n",
    "\n",
    "    def tagged_sents(self, fileids=None, categories=None):\n",
    "        \"\"\"\n",
    "        Returns a generator of sentences where each sentence is a list of\n",
    "        (token, tag) tuples.\n",
    "        \"\"\"\n",
    "        for tagged_para in self.tagged_paras(fileids, categories):\n",
    "            for tagged_sent in tagged_para:\n",
    "                yield tagged_sent\n",
    "                \n",
    "    def sents(self, fileids=None, categories=None):\n",
    "        \"\"\"\n",
    "        Returns a generator of sentences where each sentence is a list of\n",
    "        tokens.\n",
    "        \"\"\"\n",
    "        for tagged_sent in self.tagged_sents(fileids, categories):\n",
    "            yield [word for word, tag in tagged_sent]\n",
    "    \n",
    "    def tagged_words(self, fileids=None, categories=None):\n",
    "        \"\"\"\n",
    "        Returns a generator of (token, tag) tuples.\n",
    "        \"\"\"\n",
    "        for sent in self.tagged_sents(fileids, categories):\n",
    "            for token, tag in sent:\n",
    "                yield token, tag\n",
    "\n",
    "    def words(self, fileids=None, categories=None):\n",
    "        \"\"\"\n",
    "        Returns a generator of tokens.\n",
    "        \"\"\"\n",
    "        for word, tag in self.tagged_words(fileids, categories):\n",
    "            yield word\n",
    "    \n",
    "    def describe(self, fileids=None, categories=None):\n",
    "        \"\"\"\n",
    "        Performs a single pass of the corpus and\n",
    "        returns a dictionary with a variety of metrics\n",
    "        concerning the state of the corpus.\n",
    "        \"\"\"\n",
    "        started = time.time()\n",
    "        \n",
    "        # Structures to perform counting.\n",
    "        counts  = nltk.FreqDist()\n",
    "        tokens  = nltk.FreqDist()\n",
    "\n",
    "        # Perform single pass over paragraphs, tokenize and count\n",
    "        for para in self.paras(fileids, categories):\n",
    "            counts['paras'] += 1\n",
    "            \n",
    "            for sent in para:\n",
    "                counts['sents'] += 1\n",
    "                \n",
    "                for word, tag in sent:\n",
    "                    counts['words'] += 1\n",
    "                    tokens[word] += 1\n",
    "        \n",
    "        # Compute the number of files and categories in the corpus\n",
    "        n_fileids = len(self._resolve(fileids, categories) or self.fileids())\n",
    "        n_topics  = len(self.categories(self._resolve(fileids, categories)))\n",
    "\n",
    "        # Return data structure with information\n",
    "        return {\n",
    "            'files':  n_fileids,\n",
    "            'topics': n_topics,\n",
    "            'paras':  counts['paras'],\n",
    "            'sents':  counts['sents'],\n",
    "            'words':  counts['words'],\n",
    "            'vocab':  len(tokens),\n",
    "            'lexdiv': counts['words'] / len(tokens),\n",
    "            'ppdoc':  counts['paras'] / n_fileids,\n",
    "            'sppar':  counts['sents'] / counts['paras'],\n",
    "            'secs':   time.time() - started,\n",
    "        }"
   ]
  },
  {
   "cell_type": "code",
   "execution_count": 7,
   "id": "509b81e3-ffac-465a-a55b-835aa6eb4157",
   "metadata": {},
   "outputs": [
    {
     "name": "stdout",
     "output_type": "stream",
     "text": [
      "58,748 vocabulary 1,624,862 word count\n"
     ]
    }
   ],
   "source": [
    "corpus = PickledCorpusReader(root=CORPUS_ROOT.as_posix())\n",
    "words = collections.Counter(corpus.words())\n",
    "\n",
    "print(f\"{len(words.keys()):,} vocabulary {sum(words.values()):,} word count\")"
   ]
  },
  {
   "cell_type": "markdown",
   "id": "f7f3c3a6-9eec-472b-9889-8a2da80a65ce",
   "metadata": {},
   "source": [
    "## NLTKEntityExtractor"
   ]
  },
  {
   "cell_type": "code",
   "execution_count": 8,
   "id": "f0bc2a70-0b48-4edb-9d9c-3b5c3fc1d526",
   "metadata": {},
   "outputs": [],
   "source": [
    "NLTK_LABELS = frozenset([\n",
    "    'PERSON', 'ORGANIZATION', 'FACILITY', 'GPE', 'GSP'\n",
    "])"
   ]
  },
  {
   "cell_type": "code",
   "execution_count": 9,
   "id": "cf0ebbcb-c415-4865-a789-ce2517a03483",
   "metadata": {},
   "outputs": [],
   "source": [
    "class NLTKEntityExtractor(BaseEstimator, TransformerMixin):\n",
    "    \n",
    "    def __init__(self, labels=NLTK_LABELS):\n",
    "        self.labels = labels\n",
    "        \n",
    "    def get_entities(self, document):\n",
    "        return [\n",
    "            ' '.join(word.lower() for word, tag in tree)\n",
    "            for paragraph in document\n",
    "            for sentence in paragraph\n",
    "            for tree in nltk.ne_chunk(sentence)\n",
    "            if hasattr(tree, 'label')\n",
    "            and tree.label() in self.labels\n",
    "        ]\n",
    "    \n",
    "    def fit(self, documents, labels=None):\n",
    "        return self\n",
    "    \n",
    "    def transform(self, documents):\n",
    "        for document in documents:\n",
    "            yield self.get_entities(document)"
   ]
  },
  {
   "cell_type": "markdown",
   "id": "a53af8fc-2d89-49bf-8669-9a1b78489065",
   "metadata": {},
   "source": [
    "## SpacyEntityExtractor"
   ]
  },
  {
   "cell_type": "code",
   "execution_count": 10,
   "id": "91837a50-e486-4e27-8d8c-c6c6e67c6081",
   "metadata": {},
   "outputs": [],
   "source": [
    "SPACY_LABELS = frozenset([\n",
    "    'PERSON', 'NORP', 'FACILITY', 'ORG', 'GPE', 'LOC',\n",
    "    'PRODUCT', 'EVENT', 'WORK_OF_ART', 'LANGUAGE'\n",
    "])"
   ]
  },
  {
   "cell_type": "code",
   "execution_count": 11,
   "id": "956b6a7e-5711-4308-9fa3-e0bdeab9ffa1",
   "metadata": {},
   "outputs": [],
   "source": [
    "class SpacyEntityExtractor(BaseEstimator, TransformerMixin):\n",
    "    \n",
    "    def __init__(self, model_path, labels=SPACY_LABELS):\n",
    "        self.model_path = model_path\n",
    "        self.labels = labels\n",
    "    \n",
    "    def get_entities(self, model, document):\n",
    "        return [\n",
    "            entity.text\n",
    "            for paragraph in document\n",
    "            for sentence in paragraph\n",
    "            for entity in (\n",
    "                model(' '.join(word for word, tag in sentence)).ents\n",
    "            )\n",
    "            if entity.label_ in self.labels\n",
    "        ]\n",
    "    \n",
    "    def fit(self, documents, labels=None):\n",
    "        return self\n",
    "    \n",
    "    def transform(self, documents):\n",
    "        model = spacy.load(self.model_path)\n",
    "        for document in documents:\n",
    "            yield self.get_entities(model, document)"
   ]
  },
  {
   "cell_type": "markdown",
   "id": "e8e01398-2a17-43a9-be34-1d3abab43321",
   "metadata": {},
   "source": [
    "# Graph Computation and Analysis"
   ]
  },
  {
   "cell_type": "markdown",
   "id": "067647d4-51ca-4d9c-b590-d3a55519ca6f",
   "metadata": {},
   "source": [
    "## Creating a Graph-Based Thesaurus"
   ]
  },
  {
   "cell_type": "code",
   "execution_count": 12,
   "id": "335ce6c3-cbf1-449f-b762-17fb94ce673c",
   "metadata": {},
   "outputs": [],
   "source": [
    "def graph_synsets(terms, pos=wn.NOUN, depth=2):\n",
    "    \"\"\"\n",
    "    Create a networkx graph of the given terms to the given depth.\n",
    "    \"\"\"\n",
    "\n",
    "    G = nx.Graph(\n",
    "        name=f\"WordNet Synsets Graph for {', '.join(terms)}\",\n",
    "        depth=depth\n",
    "    )\n",
    "\n",
    "    def add_term_links(G, term, current_depth):\n",
    "        for syn in wn.synsets(term):\n",
    "            for name in syn.lemma_names():\n",
    "                if term != name:\n",
    "                    G.add_edge(term, name)\n",
    "                if current_depth < depth:\n",
    "                    add_term_links(G, name, current_depth + 1)\n",
    "\n",
    "    for term in terms:\n",
    "        add_term_links(G, term, 0)\n",
    "\n",
    "    return G"
   ]
  },
  {
   "cell_type": "code",
   "execution_count": 13,
   "id": "d2dc4f1b-8d8a-44a1-ac7a-fac8499b86c8",
   "metadata": {},
   "outputs": [
    {
     "name": "stdout",
     "output_type": "stream",
     "text": [
      "Graph named 'WordNet Synsets Graph for trinket' with 25 nodes and 39 edges\n"
     ]
    }
   ],
   "source": [
    "G = graph_synsets(['trinket'])\n",
    "print(G)"
   ]
  },
  {
   "cell_type": "markdown",
   "id": "e60f2ee2-27c6-41a0-9daf-94657b85cb50",
   "metadata": {},
   "source": [
    "## Analyzing Graph Structure"
   ]
  },
  {
   "cell_type": "code",
   "execution_count": 14,
   "id": "8bf6d517-47db-4034-b93a-5227f72d2653",
   "metadata": {},
   "outputs": [
    {
     "data": {
      "text/plain": [
       "5"
      ]
     },
     "execution_count": 14,
     "metadata": {},
     "output_type": "execute_result"
    }
   ],
   "source": [
    "nx.diameter(G)"
   ]
  },
  {
   "cell_type": "markdown",
   "id": "2ec669e6-1bfd-487a-a291-14ecd1b38315",
   "metadata": {},
   "source": [
    "## Visual Analysis of Graphs"
   ]
  },
  {
   "cell_type": "code",
   "execution_count": 15,
   "id": "2bbb5aab-d833-4a8c-9eed-328c20301505",
   "metadata": {},
   "outputs": [],
   "source": [
    "def draw_text_graph(G, figsize=(18, 12)):\n",
    "    plt.figure(figsize=figsize)\n",
    "    pos = nx.spring_layout(G)\n",
    "    nx.draw_networkx_nodes(G, pos,\n",
    "                           node_color='white',\n",
    "                           linewidths=0,\n",
    "                           node_size=500)\n",
    "    nx.draw_networkx_labels(G, pos,\n",
    "                            font_size=10)\n",
    "    nx.draw_networkx_edges(G, pos)"
   ]
  },
  {
   "cell_type": "code",
   "execution_count": 16,
   "id": "23294562-7bf9-4f91-9b66-b243953d59a2",
   "metadata": {},
   "outputs": [
    {
     "data": {
      "image/png": "[encoded data removed]",
      "text/plain": [
       "<Figure size 1800x1200 with 1 Axes>"
      ]
     },
     "metadata": {},
     "output_type": "display_data"
    }
   ],
   "source": [
    "draw_text_graph(G)\n",
    "plt.show()"
   ]
  },
  {
   "cell_type": "markdown",
   "id": "16051b7e-3bfb-4d5c-a6db-18882a1a4f75",
   "metadata": {},
   "source": [
    "# Extracting Graphs from Text"
   ]
  },
  {
   "cell_type": "markdown",
   "id": "4fc7db44-d45c-44ed-91ab-983749b59ab0",
   "metadata": {},
   "source": [
    "## Creating a Social Graph"
   ]
  },
  {
   "cell_type": "markdown",
   "id": "98f70e53-e074-433b-ba81-68f29ca0e46c",
   "metadata": {},
   "source": [
    "### Finding entity pairs"
   ]
  },
  {
   "cell_type": "code",
   "execution_count": 17,
   "id": "2690e971-1678-496f-9773-75437e6a358d",
   "metadata": {},
   "outputs": [],
   "source": [
    "class EntityPairs(BaseEstimator, TransformerMixin):\n",
    "    \n",
    "    def pairs(self, document):\n",
    "        # return list(itertools.combinations(set(document), 2))\n",
    "        return itertools.combinations(set(document), 2)\n",
    "    \n",
    "    def fit(self, documents, labels=None):\n",
    "        return self\n",
    "    \n",
    "    def transform(self, documents):\n",
    "        # return [self.pairs(document) for document in documents]\n",
    "        for document in documents:\n",
    "            yield self.pairs(document)"
   ]
  },
  {
   "cell_type": "markdown",
   "id": "e1fb0659-b734-4709-b855-6424ebc193b2",
   "metadata": {},
   "source": [
    "### Property graphs"
   ]
  },
  {
   "cell_type": "markdown",
   "id": "dad402fa-0e50-4798-8d7e-22e12dab99b5",
   "metadata": {},
   "source": [
    "### Implementing the graph extraction"
   ]
  },
  {
   "cell_type": "code",
   "execution_count": 18,
   "id": "870e68b2-cedf-48fe-951f-2be8f3f0d5ca",
   "metadata": {},
   "outputs": [],
   "source": [
    "from sklearn.pipeline import Pipeline"
   ]
  },
  {
   "cell_type": "code",
   "execution_count": 19,
   "id": "bf263875-d7c6-4019-8179-8a07879bbd6f",
   "metadata": {},
   "outputs": [],
   "source": [
    "class GraphExtractor(BaseEstimator, TransformerMixin):\n",
    "    \n",
    "    def __init__(self):\n",
    "        self.G = nx.Graph()\n",
    "        \n",
    "    def fit(self, documents, labels=None):\n",
    "        return self\n",
    "    \n",
    "    def transform(self, documents):\n",
    "        for document in documents:\n",
    "            for first, second in document:\n",
    "                if (first, second) in self.G.edges():\n",
    "                    self.G.edges[(first, second)]['weight'] += 1\n",
    "                else:\n",
    "                    self.G.add_edge(first, second, weight=1)\n",
    "        return self.G"
   ]
  },
  {
   "cell_type": "code",
   "execution_count": 20,
   "id": "ce0d4861-9e1a-42f5-878e-ab9a2054e515",
   "metadata": {},
   "outputs": [],
   "source": [
    "corpus = PickledCorpusReader(root=CORPUS_ROOT.as_posix())\n",
    "docs = corpus.docs()"
   ]
  },
  {
   "cell_type": "code",
   "execution_count": 21,
   "id": "91d75d32-810c-45b5-8acc-7456f30083bf",
   "metadata": {},
   "outputs": [],
   "source": [
    "graph = Pipeline([\n",
    "    ('entities', NLTKEntityExtractor()),\n",
    "    # ('entities', SpacyEntityExtractor(SPACY_DATA / 'en_core_web_sm')),\n",
    "    ('pairs', EntityPairs()),\n",
    "    ('graph', GraphExtractor())\n",
    "])"
   ]
  },
  {
   "cell_type": "code",
   "execution_count": 33,
   "id": "8cfee00a-b6ae-4e08-80c0-677d44576210",
   "metadata": {},
   "outputs": [
    {
     "name": "stdout",
     "output_type": "stream",
     "text": [
      "CPU times: user 490 µs, sys: 0 ns, total: 490 µs\n",
      "Wall time: 498 µs\n"
     ]
    }
   ],
   "source": [
    "%%time\n",
    "G = graph.fit_transform(docs)"
   ]
  },
  {
   "cell_type": "code",
   "execution_count": 35,
   "id": "2f3394c2-e749-4fa7-ab70-39bc78510b55",
   "metadata": {},
   "outputs": [
    {
     "name": "stdout",
     "output_type": "stream",
     "text": [
      "Graph with 29176 nodes and 1232644 edges\n"
     ]
    }
   ],
   "source": [
    "print(G)"
   ]
  },
  {
   "cell_type": "markdown",
   "id": "1647dac7-d094-4810-8ac3-7a80f400b580",
   "metadata": {},
   "source": [
    "## Insights from the Social Graph"
   ]
  },
  {
   "cell_type": "markdown",
   "id": "0443c4af-dbd9-41d0-b4cf-4e69439c3b14",
   "metadata": {},
   "source": [
    "### Centrality"
   ]
  },
  {
   "cell_type": "code",
   "execution_count": 24,
   "id": "c0af475f-57b0-4c4a-8477-2495113917ef",
   "metadata": {},
   "outputs": [],
   "source": [
    "def nbest_centrality(G, metric, n=10, attr='centrality', **kwargs):\n",
    "    # Compute the centrality scores for each vertex\n",
    "    scores = metric(G, **kwargs)\n",
    "\n",
    "    # Set the score as a property on each node\n",
    "    nx.set_node_attributes(G, name=attr, values=scores)\n",
    "\n",
    "    # Find the top n scores\n",
    "    topn = heapq.nlargest(\n",
    "        n=n,\n",
    "        iterable=scores.items(),\n",
    "        key=operator.itemgetter(1)\n",
    "    )\n",
    "    \n",
    "    # Print them along with their index\n",
    "    print(\"Rankings for {}:\".format(attr))\n",
    "    print(tabulate.tabulate(\n",
    "        tabular_data=topn, \n",
    "        headers=['Top Terms', 'Score'],\n",
    "        floatfmt='.4f',\n",
    "        showindex=range(1, len(topn) + 1)\n",
    "    ))\n",
    "\n",
    "    return G"
   ]
  },
  {
   "cell_type": "code",
   "execution_count": 26,
   "id": "6d9c963e-0d72-49ec-872a-bcbd02f4afe1",
   "metadata": {},
   "outputs": [
    {
     "name": "stdout",
     "output_type": "stream",
     "text": [
      "Rankings for degree_centrality:\n",
      "    Top Terms        Score\n",
      "--  -------------  -------\n",
      " 1  american        0.2243\n",
      " 2  new york        0.2145\n",
      " 3  washington      0.1610\n",
      " 4  america         0.1567\n",
      " 5  united states   0.1531\n",
      " 6  los angeles     0.1395\n",
      " 7  republican      0.1301\n",
      " 8  california      0.1206\n",
      " 9  trump           0.1168\n",
      "10  twitter         0.1144\n",
      "CPU times: user 46.6 ms, sys: 5.01 ms, total: 51.6 ms\n",
      "Wall time: 48.2 ms\n"
     ]
    }
   ],
   "source": [
    "%%time\n",
    "G = nbest_centrality(G, nx.degree_centrality, attr='degree_centrality')"
   ]
  },
  {
   "cell_type": "code",
   "execution_count": 43,
   "id": "32cf0ca6-fe0a-45fe-8640-9f710d5e523f",
   "metadata": {},
   "outputs": [
    {
     "name": "stdout",
     "output_type": "stream",
     "text": [
      "Rankings for betweenness_centrality:\n",
      "    Top Terms        Score\n",
      "--  -------------  -------\n",
      " 1  american        0.0541\n",
      " 2  new york        0.0501\n",
      " 3  america         0.0258\n",
      " 4  united states   0.0246\n",
      " 5  washington      0.0244\n",
      " 6  los angeles     0.0229\n",
      " 7  twitter         0.0192\n",
      " 8  follow          0.0182\n",
      " 9  california      0.0181\n",
      "10  new             0.0181\n",
      "CPU times: user 2h 51min 8s, sys: 28.1 ms, total: 2h 51min 8s\n",
      "Wall time: 2h 51min 8s\n"
     ]
    }
   ],
   "source": [
    "%%time\n",
    "G = nbest_centrality(G, nx.betweenness_centrality, attr='betweenness_centrality')"
   ]
  },
  {
   "cell_type": "code",
   "execution_count": 45,
   "id": "f5d65623-cc0c-4e33-b973-a326062aee5e",
   "metadata": {},
   "outputs": [],
   "source": [
    "H = nx.ego_graph(G, 'hollywood')"
   ]
  },
  {
   "cell_type": "code",
   "execution_count": 46,
   "id": "777071f2-fef2-436e-8337-6fdc94889740",
   "metadata": {},
   "outputs": [
    {
     "name": "stdout",
     "output_type": "stream",
     "text": [
      "Graph with 2572 nodes and 237818 edges\n"
     ]
    }
   ],
   "source": [
    "print(H)"
   ]
  },
  {
   "cell_type": "code",
   "execution_count": 49,
   "id": "58e3af16-b56e-434b-b400-a815b73791ba",
   "metadata": {},
   "outputs": [
    {
     "name": "stdout",
     "output_type": "stream",
     "text": [
      "Rankings for closeness_centrality:\n",
      "    Top Terms      Score\n",
      "--  -----------  -------\n",
      " 1  hollywood     1.0000\n",
      " 2  new york      0.6878\n",
      " 3  los angeles   0.6511\n",
      " 4  british       0.6356\n",
      " 5  america       0.6292\n",
      " 6  american      0.6252\n",
      " 7  video         0.6213\n",
      " 8  london        0.6129\n",
      " 9  china         0.6124\n",
      "10  brooklyn      0.6072\n",
      "CPU times: user 3.22 s, sys: 2 ms, total: 3.22 s\n",
      "Wall time: 3.22 s\n"
     ]
    }
   ],
   "source": [
    "%%time\n",
    "H = nbest_centrality(H, nx.closeness_centrality, attr='closeness_centrality')"
   ]
  },
  {
   "cell_type": "code",
   "execution_count": 56,
   "id": "b90c00b7-ede8-4738-a1d5-8846426c6e2b",
   "metadata": {},
   "outputs": [
    {
     "name": "stdout",
     "output_type": "stream",
     "text": [
      "Rankings for eigenvector_centrality_numpy:\n",
      "    Top Terms        Score\n",
      "--  -------------  -------\n",
      " 1  hollywood       0.0510\n",
      " 2  new york        0.0493\n",
      " 3  los angeles     0.0485\n",
      " 4  british         0.0480\n",
      " 5  video           0.0480\n",
      " 6  china           0.0479\n",
      " 7  london          0.0478\n",
      " 8  twitter         0.0477\n",
      " 9  new york city   0.0477\n",
      "10  new             0.0476\n",
      "CPU times: user 530 ms, sys: 19 ms, total: 549 ms\n",
      "Wall time: 418 ms\n"
     ]
    }
   ],
   "source": [
    "%%time\n",
    "H = nbest_centrality(H, nx.eigenvector_centrality_numpy, attr='eigenvector_centrality_numpy')"
   ]
  },
  {
   "cell_type": "code",
   "execution_count": 60,
   "id": "66517875-03cf-490a-8397-d56f79e939ab",
   "metadata": {},
   "outputs": [
    {
     "name": "stdout",
     "output_type": "stream",
     "text": [
      "Rankings for pagerank_numpy:\n",
      "    Top Terms        Score\n",
      "--  -------------  -------\n",
      " 1  hollywood       0.0071\n",
      " 2  american        0.0058\n",
      " 3  new york        0.0056\n",
      " 4  trump           0.0052\n",
      " 5  republican      0.0052\n",
      " 6  america         0.0048\n",
      " 7  donald trump    0.0046\n",
      " 8  washington      0.0042\n",
      " 9  united states   0.0040\n",
      "10  obama           0.0038\n",
      "CPU times: user 403 ms, sys: 14 ms, total: 417 ms\n",
      "Wall time: 414 ms\n"
     ]
    }
   ],
   "source": [
    "%%time\n",
    "H = nbest_centrality(H, nx.pagerank, attr='pagerank')"
   ]
  },
  {
   "cell_type": "code",
   "execution_count": 65,
   "id": "e9895567-47bd-4a9c-bb9b-2d38d5db20e9",
   "metadata": {},
   "outputs": [
    {
     "name": "stdout",
     "output_type": "stream",
     "text": [
      "Rankings for katz_centrality_numpy:\n",
      "    Top Terms             Score\n",
      "--  ------------------  -------\n",
      " 1  video                0.1076\n",
      " 2  washington           0.1042\n",
      " 3  chinese              0.1035\n",
      " 4  hillary              0.0893\n",
      " 5  cleveland            0.0877\n",
      " 6  state                0.0876\n",
      " 7  muslims              0.0840\n",
      " 8  editor               0.0819\n",
      " 9  paramount pictures   0.0802\n",
      "10  republican party     0.0788\n",
      "CPU times: user 1.5 s, sys: 121 ms, total: 1.62 s\n",
      "Wall time: 643 ms\n"
     ]
    }
   ],
   "source": [
    "%%time\n",
    "%%capture --no-stdout\n",
    "H = nbest_centrality(H, nx.katz_centrality_numpy, attr='katz_centrality_numpy')"
   ]
  },
  {
   "cell_type": "markdown",
   "id": "065ad239-bbc1-42f5-8896-a4a7709aeb22",
   "metadata": {},
   "source": [
    "### Structural analysis"
   ]
  },
  {
   "cell_type": "markdown",
   "id": "e27ca3eb-d654-496a-851b-3b6415cdc6c7",
   "metadata": {},
   "source": [
    "# Entity Resolution"
   ]
  },
  {
   "cell_type": "markdown",
   "id": "d7daacab-7733-41e6-a49d-d28d8eb11e39",
   "metadata": {},
   "source": [
    "## Entity Resolution on a Graph"
   ]
  },
  {
   "cell_type": "markdown",
   "id": "17bbbe15-136a-4388-ac67-928276a9d13f",
   "metadata": {},
   "source": [
    "## Blocking with Structure"
   ]
  },
  {
   "cell_type": "markdown",
   "id": "1d447afe-4e15-4d44-a20b-b3600c7c36b2",
   "metadata": {},
   "source": [
    "## Fuzzy Blocking"
   ]
  }
 ],
 "metadata": {
  "kernelspec": {
   "display_name": "Python 3 (ipykernel)",
   "language": "python",
   "name": "python3"
  },
  "language_info": {
   "codemirror_mode": {
    "name": "ipython",
    "version": 3
   },
   "file_extension": ".py",
   "mimetype": "text/x-python",
   "name": "python",
   "nbconvert_exporter": "python",
   "pygments_lexer": "ipython3",
   "version": "3.8.11"
  }
 },
 "nbformat": 4,
 "nbformat_minor": 5
}
