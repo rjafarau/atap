{
 "cells": [
  {
   "cell_type": "markdown",
   "id": "f5480bb5-acbe-430f-a4b4-4cfdb4b82fa3",
   "metadata": {
    "tags": []
   },
   "source": [
    "# Imports"
   ]
  },
  {
   "cell_type": "code",
   "execution_count": 1,
   "id": "bec33aa4-712e-423a-acf3-a50e839279b7",
   "metadata": {},
   "outputs": [],
   "source": [
    "import pathlib"
   ]
  },
  {
   "cell_type": "code",
   "execution_count": 2,
   "id": "86e170e1-4576-436b-8dcc-e7d834557663",
   "metadata": {},
   "outputs": [],
   "source": [
    "from reader import HTMLPickledCorpusReader"
   ]
  },
  {
   "cell_type": "markdown",
   "id": "d390e503-e63f-4e76-8266-a14ead12c8f4",
   "metadata": {},
   "source": [
    "# Constants"
   ]
  },
  {
   "cell_type": "code",
   "execution_count": 3,
   "id": "b799eee5-5b54-4b95-8a28-63ad2d96ff8e",
   "metadata": {},
   "outputs": [],
   "source": [
    "PROJECT_DIR = pathlib.Path('~/project').expanduser()\n",
    "DATA_DIR = PROJECT_DIR / 'data'"
   ]
  },
  {
   "cell_type": "code",
   "execution_count": 4,
   "id": "d3a55f50-7ec5-4709-a691-68ecd455565c",
   "metadata": {
    "tags": []
   },
   "outputs": [],
   "source": [
    "COOKING_CORPUS_PICKLED_ROOT = DATA_DIR / 'cooking_corpus_pickled'\n",
    "COOKING_CORPUS_MINI_PICKLED_ROOT = DATA_DIR / 'cooking_corpus_mini_pickled'"
   ]
  },
  {
   "cell_type": "code",
   "execution_count": 5,
   "id": "3c65393f-e289-491a-ab89-484aa5b688b3",
   "metadata": {
    "tags": []
   },
   "outputs": [],
   "source": [
    "# CORPUS_PICKLED_ROOT = COOKING_CORPUS_PICKLED_ROOT\n",
    "CORPUS_PICKLED_ROOT = COOKING_CORPUS_MINI_PICKLED_ROOT"
   ]
  },
  {
   "cell_type": "markdown",
   "id": "45d6ac72-ce84-4ace-be1f-0455798d2068",
   "metadata": {
    "tags": []
   },
   "source": [
    "# Classes"
   ]
  },
  {
   "cell_type": "markdown",
   "id": "0fa22368-75aa-4d1a-bc6b-b6e5e76d11f5",
   "metadata": {
    "tags": []
   },
   "source": [
    "## HTMLPickledCorpusReader"
   ]
  },
  {
   "cell_type": "code",
   "execution_count": 6,
   "id": "f04ee5d8-b6ee-4174-b8ae-7386bfa42d9a",
   "metadata": {},
   "outputs": [
    {
     "name": "stdout",
     "output_type": "stream",
     "text": [
      "HTML corpus contains 3 files in 1 categories.\n",
      "Structured as:\n",
      "    63 paragraphs (21.000 mean paragraphs per file)\n",
      "    180 sentences (2.857 mean sentences per paragraph).\n",
      "Word count of 3,000 with a vocabulary of 926 (3.240 lexical diversity).\n",
      "Corpus scan took 0.010 seconds.\n"
     ]
    }
   ],
   "source": [
    "corpus = HTMLPickledCorpusReader(CORPUS_PICKLED_ROOT.as_posix())\n",
    "print(corpus.describes())"
   ]
  },
  {
   "cell_type": "markdown",
   "id": "84fc78af-cee0-47a3-9571-f20c0cdaf21e",
   "metadata": {
    "tags": []
   },
   "source": [
    "# Python Multiprocessing"
   ]
  },
  {
   "cell_type": "markdown",
   "id": "e2fb1306-583f-4aea-97aa-76465ec7f9f3",
   "metadata": {},
   "source": [
    "## Running Tasks in Parallel"
   ]
  },
  {
   "cell_type": "markdown",
   "id": "0fa1a273-d0de-474a-bb7e-670a96e9a273",
   "metadata": {},
   "source": [
    "## Process Pools and Queues"
   ]
  },
  {
   "cell_type": "markdown",
   "id": "ddd4b172-8a19-4548-a20e-8212fe753b1b",
   "metadata": {},
   "source": [
    "## Parallel Corpus Preprocessing"
   ]
  },
  {
   "cell_type": "markdown",
   "id": "6108f911-825e-4515-a6a7-8a269dafa059",
   "metadata": {},
   "source": [
    "# Cluster Computing with Spark"
   ]
  },
  {
   "cell_type": "markdown",
   "id": "b7ffea90-9615-4367-b73f-e71c7dad7507",
   "metadata": {},
   "source": [
    "## Anatomy of a Spark Job"
   ]
  },
  {
   "cell_type": "markdown",
   "id": "05defab8-5891-45b3-a872-3e52a8acf432",
   "metadata": {},
   "source": [
    "## Distributing the Corpus"
   ]
  },
  {
   "cell_type": "markdown",
   "id": "7b716554-e218-47a1-a3fb-fb3f3538c669",
   "metadata": {},
   "source": [
    "## RDD Operations"
   ]
  },
  {
   "cell_type": "markdown",
   "id": "a918e78e-8937-469c-ba0b-24e160f79eb0",
   "metadata": {},
   "source": [
    "## NLP with Spark"
   ]
  },
  {
   "cell_type": "markdown",
   "id": "0f63d381-530b-4eb2-a727-482640411574",
   "metadata": {},
   "source": [
    "### From Scikit-Learn to MLLib"
   ]
  },
  {
   "cell_type": "markdown",
   "id": "edd7d133-8b7f-4837-a7d0-d756bf8028b8",
   "metadata": {},
   "source": [
    "### Feature extraction"
   ]
  },
  {
   "cell_type": "markdown",
   "id": "8162958d-6776-477a-b662-2b818671d3e0",
   "metadata": {},
   "source": [
    "### Text clustering with MLLib"
   ]
  },
  {
   "cell_type": "markdown",
   "id": "89a48883-5804-46a3-bf2e-03a9be1272d4",
   "metadata": {},
   "source": [
    "### Text classification with MLLib"
   ]
  },
  {
   "cell_type": "markdown",
   "id": "959a3013-a82f-4cf8-8edc-ada3ec66ec1a",
   "metadata": {},
   "source": [
    "### Local fit, global evaluation"
   ]
  }
 ],
 "metadata": {
  "kernelspec": {
   "display_name": "Python 3 (ipykernel)",
   "language": "python",
   "name": "python3"
  },
  "language_info": {
   "codemirror_mode": {
    "name": "ipython",
    "version": 3
   },
   "file_extension": ".py",
   "mimetype": "text/x-python",
   "name": "python",
   "nbconvert_exporter": "python",
   "pygments_lexer": "ipython3",
   "version": "3.8.11"
  }
 },
 "nbformat": 4,
 "nbformat_minor": 5
}
